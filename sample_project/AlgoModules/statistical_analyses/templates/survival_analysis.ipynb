{
 "cells": [
  {
   "cell_type": "code",
   "execution_count": 6,
   "metadata": {},
   "outputs": [],
   "source": [
    "import pandas as pd\n",
    "import lifelines\n",
    "\n",
    "data = lifelines.datasets.load_dd()"
   ]
  },
  {
   "cell_type": "code",
   "execution_count": 7,
   "metadata": {},
   "outputs": [
    {
     "data": {
      "text/html": [
       "<div>\n",
       "<style scoped>\n",
       "    .dataframe tbody tr th:only-of-type {\n",
       "        vertical-align: middle;\n",
       "    }\n",
       "\n",
       "    .dataframe tbody tr th {\n",
       "        vertical-align: top;\n",
       "    }\n",
       "\n",
       "    .dataframe thead th {\n",
       "        text-align: right;\n",
       "    }\n",
       "</style>\n",
       "<table border=\"1\" class=\"dataframe\">\n",
       "  <thead>\n",
       "    <tr style=\"text-align: right;\">\n",
       "      <th></th>\n",
       "      <th>ctryname</th>\n",
       "      <th>cowcode2</th>\n",
       "      <th>politycode</th>\n",
       "      <th>un_region_name</th>\n",
       "      <th>un_continent_name</th>\n",
       "      <th>ehead</th>\n",
       "      <th>leaderspellreg</th>\n",
       "      <th>democracy</th>\n",
       "      <th>regime</th>\n",
       "      <th>start_year</th>\n",
       "      <th>duration</th>\n",
       "      <th>observed</th>\n",
       "    </tr>\n",
       "  </thead>\n",
       "  <tbody>\n",
       "    <tr>\n",
       "      <th>848</th>\n",
       "      <td>Japan</td>\n",
       "      <td>740</td>\n",
       "      <td>740.0</td>\n",
       "      <td>Eastern Asia</td>\n",
       "      <td>Asia</td>\n",
       "      <td>Zenko Suzuki</td>\n",
       "      <td>Zenko Suzuki.Japan.1980.1981.Parliamentary Dem</td>\n",
       "      <td>Democracy</td>\n",
       "      <td>Parliamentary Dem</td>\n",
       "      <td>1980</td>\n",
       "      <td>2</td>\n",
       "      <td>1</td>\n",
       "    </tr>\n",
       "    <tr>\n",
       "      <th>1174</th>\n",
       "      <td>North Korea</td>\n",
       "      <td>731</td>\n",
       "      <td>731.0</td>\n",
       "      <td>Eastern Asia</td>\n",
       "      <td>Asia</td>\n",
       "      <td>Kim Jong Il</td>\n",
       "      <td>Kim Jong Il.North Korea.1994.2008.Civilian Dict</td>\n",
       "      <td>Non-democracy</td>\n",
       "      <td>Civilian Dict</td>\n",
       "      <td>1994</td>\n",
       "      <td>15</td>\n",
       "      <td>0</td>\n",
       "    </tr>\n",
       "    <tr>\n",
       "      <th>1677</th>\n",
       "      <td>Uganda</td>\n",
       "      <td>500</td>\n",
       "      <td>500.0</td>\n",
       "      <td>Eastern Africa</td>\n",
       "      <td>Africa</td>\n",
       "      <td>Sir Walter Fleming Coutts</td>\n",
       "      <td>Sir Walter Fleming Coutts.Uganda.1962.1962.Civ...</td>\n",
       "      <td>Non-democracy</td>\n",
       "      <td>Civilian Dict</td>\n",
       "      <td>1962</td>\n",
       "      <td>1</td>\n",
       "      <td>1</td>\n",
       "    </tr>\n",
       "    <tr>\n",
       "      <th>414</th>\n",
       "      <td>Denmark</td>\n",
       "      <td>390</td>\n",
       "      <td>390.0</td>\n",
       "      <td>Northern Europe</td>\n",
       "      <td>Europe</td>\n",
       "      <td>Poul Schluter</td>\n",
       "      <td>Poul Schluter.Denmark.1982.1992.Parliamentary Dem</td>\n",
       "      <td>Democracy</td>\n",
       "      <td>Parliamentary Dem</td>\n",
       "      <td>1982</td>\n",
       "      <td>11</td>\n",
       "      <td>1</td>\n",
       "    </tr>\n",
       "    <tr>\n",
       "      <th>487</th>\n",
       "      <td>El Salvador</td>\n",
       "      <td>92</td>\n",
       "      <td>92.0</td>\n",
       "      <td>Central America</td>\n",
       "      <td>Americas</td>\n",
       "      <td>Francisco Guillermo Flores Perez</td>\n",
       "      <td>Francisco Guillermo Flores Perez.El Salvador.1...</td>\n",
       "      <td>Democracy</td>\n",
       "      <td>Presidential Dem</td>\n",
       "      <td>1999</td>\n",
       "      <td>5</td>\n",
       "      <td>1</td>\n",
       "    </tr>\n",
       "    <tr>\n",
       "      <th>264</th>\n",
       "      <td>Canada</td>\n",
       "      <td>20</td>\n",
       "      <td>20.0</td>\n",
       "      <td>Northern America</td>\n",
       "      <td>Americas</td>\n",
       "      <td>Pierre Elliott Trudeau</td>\n",
       "      <td>Pierre Elliott Trudeau.Canada.1980.1983.Parlia...</td>\n",
       "      <td>Democracy</td>\n",
       "      <td>Parliamentary Dem</td>\n",
       "      <td>1980</td>\n",
       "      <td>4</td>\n",
       "      <td>1</td>\n",
       "    </tr>\n",
       "    <tr>\n",
       "      <th>1613</th>\n",
       "      <td>Thailand</td>\n",
       "      <td>800</td>\n",
       "      <td>800.0</td>\n",
       "      <td>South-Eastern Asia</td>\n",
       "      <td>Asia</td>\n",
       "      <td>Chatichai Choonhavan</td>\n",
       "      <td>Chatichai Choonhavan.Thailand.1988.1990.Parlia...</td>\n",
       "      <td>Democracy</td>\n",
       "      <td>Parliamentary Dem</td>\n",
       "      <td>1988</td>\n",
       "      <td>3</td>\n",
       "      <td>1</td>\n",
       "    </tr>\n",
       "    <tr>\n",
       "      <th>139</th>\n",
       "      <td>Belize</td>\n",
       "      <td>80</td>\n",
       "      <td>80.0</td>\n",
       "      <td>Central America</td>\n",
       "      <td>Americas</td>\n",
       "      <td>Said Musa</td>\n",
       "      <td>Said Musa.Belize.1998.2007.Parliamentary Dem</td>\n",
       "      <td>Democracy</td>\n",
       "      <td>Parliamentary Dem</td>\n",
       "      <td>1998</td>\n",
       "      <td>10</td>\n",
       "      <td>1</td>\n",
       "    </tr>\n",
       "    <tr>\n",
       "      <th>250</th>\n",
       "      <td>Cambodia</td>\n",
       "      <td>811</td>\n",
       "      <td>811.0</td>\n",
       "      <td>South-Eastern Asia</td>\n",
       "      <td>Asia</td>\n",
       "      <td>Norodom Sihanouk</td>\n",
       "      <td>Norodom Sihanouk.Cambodia.1975.1975.Civilian Dict</td>\n",
       "      <td>Non-democracy</td>\n",
       "      <td>Civilian Dict</td>\n",
       "      <td>1975</td>\n",
       "      <td>1</td>\n",
       "      <td>1</td>\n",
       "    </tr>\n",
       "    <tr>\n",
       "      <th>410</th>\n",
       "      <td>Denmark</td>\n",
       "      <td>390</td>\n",
       "      <td>390.0</td>\n",
       "      <td>Northern Europe</td>\n",
       "      <td>Europe</td>\n",
       "      <td>Jens-Otto Krag</td>\n",
       "      <td>Jens-Otto Krag.Denmark.1971.1971.Parliamentary...</td>\n",
       "      <td>Democracy</td>\n",
       "      <td>Parliamentary Dem</td>\n",
       "      <td>1971</td>\n",
       "      <td>1</td>\n",
       "      <td>1</td>\n",
       "    </tr>\n",
       "  </tbody>\n",
       "</table>\n",
       "</div>"
      ],
      "text/plain": [
       "         ctryname  cowcode2  politycode      un_region_name un_continent_name  \\\n",
       "848         Japan       740       740.0        Eastern Asia              Asia   \n",
       "1174  North Korea       731       731.0        Eastern Asia              Asia   \n",
       "1677       Uganda       500       500.0      Eastern Africa            Africa   \n",
       "414       Denmark       390       390.0     Northern Europe            Europe   \n",
       "487   El Salvador        92        92.0     Central America          Americas   \n",
       "264        Canada        20        20.0    Northern America          Americas   \n",
       "1613     Thailand       800       800.0  South-Eastern Asia              Asia   \n",
       "139        Belize        80        80.0     Central America          Americas   \n",
       "250      Cambodia       811       811.0  South-Eastern Asia              Asia   \n",
       "410       Denmark       390       390.0     Northern Europe            Europe   \n",
       "\n",
       "                                 ehead  \\\n",
       "848                       Zenko Suzuki   \n",
       "1174                       Kim Jong Il   \n",
       "1677         Sir Walter Fleming Coutts   \n",
       "414                      Poul Schluter   \n",
       "487   Francisco Guillermo Flores Perez   \n",
       "264             Pierre Elliott Trudeau   \n",
       "1613              Chatichai Choonhavan   \n",
       "139                          Said Musa   \n",
       "250                   Norodom Sihanouk   \n",
       "410                     Jens-Otto Krag   \n",
       "\n",
       "                                         leaderspellreg      democracy  \\\n",
       "848      Zenko Suzuki.Japan.1980.1981.Parliamentary Dem      Democracy   \n",
       "1174    Kim Jong Il.North Korea.1994.2008.Civilian Dict  Non-democracy   \n",
       "1677  Sir Walter Fleming Coutts.Uganda.1962.1962.Civ...  Non-democracy   \n",
       "414   Poul Schluter.Denmark.1982.1992.Parliamentary Dem      Democracy   \n",
       "487   Francisco Guillermo Flores Perez.El Salvador.1...      Democracy   \n",
       "264   Pierre Elliott Trudeau.Canada.1980.1983.Parlia...      Democracy   \n",
       "1613  Chatichai Choonhavan.Thailand.1988.1990.Parlia...      Democracy   \n",
       "139        Said Musa.Belize.1998.2007.Parliamentary Dem      Democracy   \n",
       "250   Norodom Sihanouk.Cambodia.1975.1975.Civilian Dict  Non-democracy   \n",
       "410   Jens-Otto Krag.Denmark.1971.1971.Parliamentary...      Democracy   \n",
       "\n",
       "                 regime  start_year  duration  observed  \n",
       "848   Parliamentary Dem        1980         2         1  \n",
       "1174      Civilian Dict        1994        15         0  \n",
       "1677      Civilian Dict        1962         1         1  \n",
       "414   Parliamentary Dem        1982        11         1  \n",
       "487    Presidential Dem        1999         5         1  \n",
       "264   Parliamentary Dem        1980         4         1  \n",
       "1613  Parliamentary Dem        1988         3         1  \n",
       "139   Parliamentary Dem        1998        10         1  \n",
       "250       Civilian Dict        1975         1         1  \n",
       "410   Parliamentary Dem        1971         1         1  "
      ]
     },
     "execution_count": 7,
     "metadata": {},
     "output_type": "execute_result"
    }
   ],
   "source": [
    "data.sample(10)"
   ]
  },
  {
   "cell_type": "markdown",
   "metadata": {},
   "source": [
    "### Kaplan-Meier survivor function estimation"
   ]
  },
  {
   "cell_type": "code",
   "execution_count": 10,
   "metadata": {},
   "outputs": [],
   "source": [
    "kmf = lifelines.KaplanMeierFitter()"
   ]
  },
  {
   "cell_type": "code",
   "execution_count": 15,
   "metadata": {},
   "outputs": [
    {
     "data": {
      "text/plain": [
       "<lifelines.KaplanMeierFitter: fitted with 1808 observations, 340 censored>"
      ]
     },
     "execution_count": 15,
     "metadata": {},
     "output_type": "execute_result"
    }
   ],
   "source": [
    "T = data[\"duration\"]\n",
    "E = data[\"observed\"]\n",
    "\n",
    "kmf.fit(T, event_observed=E)"
   ]
  },
  {
   "cell_type": "code",
   "execution_count": 16,
   "metadata": {},
   "outputs": [
    {
     "data": {
      "image/png": "[encoded data removed]",
      "text/plain": [
       "<matplotlib.figure.Figure at 0x7f0fe71a1b10>"
      ]
     },
     "metadata": {},
     "output_type": "display_data"
    }
   ],
   "source": [
    "ax = plt.subplot(111)\n",
    "\n",
    "dem = (data[\"democracy\"] == \"Democracy\")\n",
    "kmf.fit(T[dem], event_observed=E[dem], label=\"Democratic Regimes\")\n",
    "kmf.plot(ax=ax, ci_force_lines=True)\n",
    "kmf.fit(T[~dem], event_observed=E[~dem], label=\"Non-democratic Regimes\")\n",
    "kmf.plot(ax=ax, ci_force_lines=True)\n",
    "\n",
    "plt.ylim(0, 1);\n",
    "plt.title(\"Lifespans of different global regimes\");\n"
   ]
  },
  {
   "cell_type": "code",
   "execution_count": 17,
   "metadata": {},
   "outputs": [
    {
     "name": "stdout",
     "output_type": "stream",
     "text": [
      "Results\n",
      "   df: 1\n",
      "   alpha: 0.99\n",
      "   t 0: -1\n",
      "   test: logrank\n",
      "   null distribution: chi squared\n",
      "\n",
      "   __ p-value ___|__ test statistic __|____ test result ____|__ is significant __\n",
      "         0.00000 |            260.470 |      Reject Null    |        True       \n"
     ]
    }
   ],
   "source": [
    "from lifelines.statistics import logrank_test\n",
    "\n",
    "results = logrank_test(T[dem], T[~dem], E[dem], E[~dem], alpha=.99)\n",
    "\n",
    "results.print_summary()"
   ]
  },
  {
   "cell_type": "code",
   "execution_count": null,
   "metadata": {},
   "outputs": [],
   "source": []
  },
  {
   "cell_type": "markdown",
   "metadata": {},
   "source": [
    "### Nelson Aalen (cumulative) hazard function estimator"
   ]
  },
  {
   "cell_type": "code",
   "execution_count": 20,
   "metadata": {},
   "outputs": [],
   "source": [
    "from lifelines import NelsonAalenFitter\n",
    "naf = NelsonAalenFitter()"
   ]
  },
  {
   "cell_type": "code",
   "execution_count": 21,
   "metadata": {},
   "outputs": [
    {
     "data": {
      "image/png": "[encoded data removed]",
      "text/plain": [
       "<matplotlib.figure.Figure at 0x7f0fe9d6ca50>"
      ]
     },
     "metadata": {},
     "output_type": "display_data"
    }
   ],
   "source": [
    "naf.fit(T[dem], event_observed=E[dem], label=\"Democratic Regimes\")\n",
    "ax = naf.plot(loc=slice(0, 20))\n",
    "naf.fit(T[~dem], event_observed=E[~dem], label=\"Non-democratic Regimes\")\n",
    "naf.plot(ax=ax, loc=slice(0, 20))\n",
    "plt.title(\"Cumulative hazard function of different global regimes\");"
   ]
  },
  {
   "cell_type": "markdown",
   "metadata": {},
   "source": [
    "#### Smoothing the cumulative hazard function"
   ]
  },
  {
   "cell_type": "code",
   "execution_count": 23,
   "metadata": {},
   "outputs": [
    {
     "data": {
      "image/png": "[encoded data removed]",
      "text/plain": [
       "<matplotlib.figure.Figure at 0x7f0fe57d8590>"
      ]
     },
     "metadata": {},
     "output_type": "display_data"
    }
   ],
   "source": [
    "b = 3.\n",
    "naf.fit(T[dem], event_observed=E[dem], label=\"Democratic Regimes\")\n",
    "ax = naf.plot_hazard(bandwidth=b)\n",
    "naf.fit(T[~dem], event_observed=E[~dem], label=\"Non-democratic Regimes\")\n",
    "naf.plot_hazard(ax=ax, bandwidth=b)\n",
    "plt.title(\"Hazard function of different global regimes | bandwidth=%.1f\"%b);\n",
    "plt.ylim(0, 0.4)\n",
    "plt.xlim(0, 25);"
   ]
  },
  {
   "cell_type": "code",
   "execution_count": null,
   "metadata": {},
   "outputs": [],
   "source": []
  },
  {
   "cell_type": "code",
   "execution_count": null,
   "metadata": {
    "collapsed": true
   },
   "outputs": [],
   "source": []
  }
 ],
 "metadata": {
  "anaconda-cloud": {},
  "kernelspec": {
   "display_name": "Python 2",
   "language": "python",
   "name": "python2"
  },
  "language_info": {
   "codemirror_mode": {
    "name": "ipython",
    "version": 2
   },
   "file_extension": ".py",
   "mimetype": "text/x-python",
   "name": "python",
   "nbconvert_exporter": "python",
   "pygments_lexer": "ipython2",
   "version": "2.7.12"
  }
 },
 "nbformat": 4,
 "nbformat_minor": 1
}
