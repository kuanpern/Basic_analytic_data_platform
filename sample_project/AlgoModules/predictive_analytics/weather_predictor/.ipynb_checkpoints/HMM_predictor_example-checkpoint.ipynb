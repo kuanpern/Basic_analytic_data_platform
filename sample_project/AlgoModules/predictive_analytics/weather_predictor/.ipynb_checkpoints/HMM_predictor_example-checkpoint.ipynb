{
 "cells": [
  {
   "cell_type": "markdown",
   "metadata": {},
   "source": [
    "## HMM predictor training and usage\n",
    "This notebook demonstrates the training and usage of a simple Hidden Markov Model predictor "
   ]
  },
  {
   "cell_type": "markdown",
   "metadata": {},
   "source": [
    "#### Import library"
   ]
  },
  {
   "cell_type": "code",
   "execution_count": 1,
   "metadata": {},
   "outputs": [],
   "source": [
    "import pandas as pd\n",
    "import numpy as np\n",
    "from hmmlearn import hmm\n",
    "from sklearn.utils import check_random_state"
   ]
  },
  {
   "cell_type": "markdown",
   "metadata": {},
   "source": [
    "#### Setting parameters"
   ]
  },
  {
   "cell_type": "code",
   "execution_count": 2,
   "metadata": {},
   "outputs": [],
   "source": [
    "max_iter = 100\n",
    "n_components = 3\n",
    "n_sample = 1000"
   ]
  },
  {
   "cell_type": "markdown",
   "metadata": {},
   "source": [
    "#### Read data"
   ]
  },
  {
   "cell_type": "code",
   "execution_count": 3,
   "metadata": {},
   "outputs": [],
   "source": [
    "df = pd.read_excel('data.xlsx')\n",
    "vals = df['category'].values\n",
    "n_obs_states = len(set(list(vals)))"
   ]
  },
  {
   "cell_type": "markdown",
   "metadata": {},
   "source": [
    "#### Train model"
   ]
  },
  {
   "cell_type": "code",
   "execution_count": 4,
   "metadata": {},
   "outputs": [],
   "source": [
    "model = hmm.GaussianHMM(n_components=n_components, covariance_type=\"full\", n_iter=max_iter)\n",
    "vals = vals.reshape(-1, 1)\n",
    "model.fit(vals);"
   ]
  },
  {
   "cell_type": "markdown",
   "metadata": {},
   "source": [
    "#### Extract paramaters from model"
   ]
  },
  {
   "cell_type": "code",
   "execution_count": 5,
   "metadata": {},
   "outputs": [],
   "source": [
    "states = model.decode(vals)[1]\n",
    "emmission_mat = np.zeros([n_components, n_obs_states])\n",
    "\n",
    "vals = [_[0] for _ in vals]\n",
    "for _x, _y in zip(states, vals):\n",
    "    emmission_mat[_x][_y] += 1\n",
    "# end for\n",
    "\n",
    "for row in range(len(emmission_mat)):\n",
    "    emmission_mat[row] = emmission_mat[row, :] / sum(emmission_mat[row, :])\\\n",
    "# end for"
   ]
  },
  {
   "cell_type": "markdown",
   "metadata": {},
   "source": [
    "#### Make predictions"
   ]
  },
  {
   "cell_type": "code",
   "execution_count": 6,
   "metadata": {},
   "outputs": [],
   "source": [
    "# sample from models\n",
    "transmat_cdf = np.cumsum(model.transmat_, axis=1)\n",
    "random_state = check_random_state(model.random_state)\n",
    "\n",
    "next_state_prob = []\n",
    "for i in range(n_sample):\n",
    "    next_state = (transmat_cdf[states[-1]] > random_state.rand()).argmax()\n",
    "    next_state_prob.append(next_state)\n",
    "# end for"
   ]
  },
  {
   "cell_type": "code",
   "execution_count": 7,
   "metadata": {},
   "outputs": [],
   "source": [
    "# compute probabilities\n",
    "next_state_prob = {_state: next_state_prob.count(_state) for _state in set(next_state_prob)}"
   ]
  },
  {
   "cell_type": "code",
   "execution_count": 8,
   "metadata": {},
   "outputs": [],
   "source": [
    "# cast to array format\n",
    "swap = np.zeros([1, n_components])\n",
    "for key, val in next_state_prob.items():\n",
    "    swap[0, key] = val / n_sample\n",
    "# end for\n",
    "next_state_prob = swap"
   ]
  },
  {
   "cell_type": "code",
   "execution_count": 9,
   "metadata": {},
   "outputs": [],
   "source": [
    "# total probability\n",
    "prob = np.array(np.matrix(next_state_prob) * np.matrix(emmission_mat))[0]"
   ]
  },
  {
   "cell_type": "code",
   "execution_count": 10,
   "metadata": {},
   "outputs": [
    {
     "data": {
      "text/plain": [
       "array([0.649    , 0.177    , 0.1032708, 0.0707292])"
      ]
     },
     "execution_count": 10,
     "metadata": {},
     "output_type": "execute_result"
    }
   ],
   "source": [
    "prob"
   ]
  }
 ],
 "metadata": {
  "kernelspec": {
   "display_name": "Python 3",
   "language": "python",
   "name": "python3"
  },
  "language_info": {
   "codemirror_mode": {
    "name": "ipython",
    "version": 3
   },
   "file_extension": ".py",
   "mimetype": "text/x-python",
   "name": "python",
   "nbconvert_exporter": "python",
   "pygments_lexer": "ipython3",
   "version": "3.6.6"
  }
 },
 "nbformat": 4,
 "nbformat_minor": 2
}
