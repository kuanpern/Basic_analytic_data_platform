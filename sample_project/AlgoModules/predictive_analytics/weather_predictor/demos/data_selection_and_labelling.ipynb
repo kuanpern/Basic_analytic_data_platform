{
 "cells": [
  {
   "cell_type": "code",
   "execution_count": 149,
   "metadata": {},
   "outputs": [],
   "source": [
    "# import libraries\n",
    "import os\n",
    "import time\n",
    "import datetime\n",
    "import pandas as pd\n",
    "import glob\n",
    "import sqlalchemy\n",
    "import numpy as np"
   ]
  },
  {
   "cell_type": "code",
   "execution_count": 154,
   "metadata": {},
   "outputs": [],
   "source": [
    "outdir='data/'"
   ]
  },
  {
   "cell_type": "code",
   "execution_count": 14,
   "metadata": {},
   "outputs": [],
   "source": [
    "# read data\n",
    "project_home = '/home/scube_dev/basic_analytic_data_platform/sample_project/'\n",
    "dbpath = project_home+'/data/sg_weather.db'\n",
    "engine = sqlalchemy.create_engine('sqlite:///'+dbpath)\n",
    "df = pd.read_sql('raw_data', con=engine)"
   ]
  },
  {
   "cell_type": "code",
   "execution_count": null,
   "metadata": {},
   "outputs": [],
   "source": [
    "# select data\n",
    "# - use only last 5 year data\n",
    "cur_date = datetime.datetime.now()\n",
    "cutoff_date = datetime.datetime(cur_date.year-5, cur_date.month, cur_date.day).isoformat('T').split('T')[0]\n",
    "df_sel = df[df['Datetime'] > cutoff_date]"
   ]
  },
  {
   "cell_type": "code",
   "execution_count": 136,
   "metadata": {},
   "outputs": [],
   "source": [
    "# data labelling\n",
    "category_names = {\n",
    "    0: 'sunny',\n",
    "    1: 'drizzle',\n",
    "    2: 'rainy',\n",
    "    3: 'stormy'\n",
    "} # end name\n",
    "\n",
    "def categorize(s):\n",
    "    if s < 50:\n",
    "        return 0\n",
    "    elif 50 <= s < 200:\n",
    "        return 1\n",
    "    elif 200 <= s < 500:\n",
    "        return 2\n",
    "    else:\n",
    "        return 3\n",
    "    # end if\n",
    "# end def"
   ]
  },
  {
   "cell_type": "code",
   "execution_count": 138,
   "metadata": {},
   "outputs": [],
   "source": [
    "_df = df_sel[['Datetime', 'Daily Rainfall Total (mm)']].groupby('Datetime').agg(sum)\n",
    "_df['Datetime'] = _df.index\n",
    "\n",
    "cats = list(map(categorize, _df['Daily Rainfall Total (mm)']))\n",
    "print({category_names[_]:cats.count(_) for _ in set(cats)})\n",
    "\n",
    "_df['category'] = cats"
   ]
  },
  {
   "cell_type": "code",
   "execution_count": 141,
   "metadata": {},
   "outputs": [],
   "source": [
    "# save to temporary file"
   ]
  },
  {
   "cell_type": "code",
   "execution_count": 155,
   "metadata": {},
   "outputs": [],
   "source": [
    "outfilename = 'weather-data.label.%s.csv' % (str(int(time.time())),)\n",
    "outfilename = outdir+'/'+outfilename"
   ]
  },
  {
   "cell_type": "code",
   "execution_count": 156,
   "metadata": {},
   "outputs": [
    {
     "data": {
      "text/plain": [
       "'data//weather-data.label.1541248528.csv'"
      ]
     },
     "execution_count": 156,
     "metadata": {},
     "output_type": "execute_result"
    }
   ],
   "source": [
    "outfilename"
   ]
  },
  {
   "cell_type": "code",
   "execution_count": 157,
   "metadata": {},
   "outputs": [],
   "source": [
    "_df.to_csv(outfilename, index=None)"
   ]
  }
 ],
 "metadata": {
  "kernelspec": {
   "display_name": "Python 2",
   "language": "python",
   "name": "python2"
  },
  "language_info": {
   "codemirror_mode": {
    "name": "ipython",
    "version": 3
   },
   "file_extension": ".py",
   "mimetype": "text/x-python",
   "name": "python",
   "nbconvert_exporter": "python",
   "pygments_lexer": "ipython3",
   "version": "3.6.6"
  }
 },
 "nbformat": 4,
 "nbformat_minor": 2
}
