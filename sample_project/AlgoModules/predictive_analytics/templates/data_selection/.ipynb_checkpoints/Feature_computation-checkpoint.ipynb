{
 "cells": [
  {
   "cell_type": "markdown",
   "metadata": {},
   "source": [
    "## Compute derived features"
   ]
  },
  {
   "cell_type": "markdown",
   "metadata": {},
   "source": [
    "Description: compute derived features"
   ]
  },
  {
   "cell_type": "code",
   "execution_count": null,
   "metadata": {},
   "outputs": [],
   "source": [
    "# set project and working directory\n",
    "home_dir = os.environ['project_home']"
   ]
  },
  {
   "cell_type": "markdown",
   "metadata": {},
   "source": [
    "### === MAIN ==="
   ]
  },
  {
   "cell_type": "markdown",
   "metadata": {},
   "source": [
    "#### === import libraries ==="
   ]
  },
  {
   "cell_type": "code",
   "execution_count": null,
   "metadata": {},
   "outputs": [],
   "source": [
    "# import libraries\n",
    "import sys\n",
    "sys.path.append(home_dir+'/lib')\n",
    "from Algorithm_shorthand import *"
   ]
  },
  {
   "cell_type": "markdown",
   "metadata": {},
   "source": [
    "#### Parameters setting"
   ]
  },
  {
   "cell_type": "code",
   "execution_count": null,
   "metadata": {},
   "outputs": [],
   "source": [
    "parameter_01 = 0\n",
    "parameter_02 = 0\n",
    "parameter_03 = 0"
   ]
  },
  {
   "cell_type": "markdown",
   "metadata": {},
   "source": [
    "### Read data"
   ]
  },
  {
   "cell_type": "code",
   "execution_count": null,
   "metadata": {},
   "outputs": [],
   "source": [
    "data_source_dir = working_dir+'/vars/'\n",
    "\n",
    "cmd = 'ls {data_source_dir}/Sessions.*.pickle'.format(data_source_dir=data_source_dir)\n",
    "input_filepath = commands.getoutput(cmd).splitlines()[-1]\n",
    "__nb_logger.info('reading file: %s' % input_filepath)\n",
    "Sessions = pickle.load(open(input_filepath))"
   ]
  },
  {
   "cell_type": "markdown",
   "metadata": {},
   "source": [
    "### DF.*eclare the output table"
   ]
  },
  {
   "cell_type": "code",
   "execution_count": null,
   "metadata": {},
   "outputs": [],
   "source": [
    "DF = pd.DataFrame([[_id, Sessions[_id]['__label']] for _id in Sessions.keys()])\n",
    "DF.columns = ['IDF.*', '__label']\n",
    "DF.*.set_index('IDF.*', inplace=True)"
   ]
  },
  {
   "cell_type": "code",
   "execution_count": null,
   "metadata": {},
   "outputs": [],
   "source": [
    "print 'composition:', count_elements(DF['__label'].values)"
   ]
  },
  {
   "cell_type": "markdown",
   "metadata": {},
   "source": [
    "### Extract relevant values"
   ]
  },
  {
   "cell_type": "code",
   "execution_count": null,
   "metadata": {},
   "outputs": [],
   "source": [
    "_id_arranged = DF.index.values"
   ]
  },
  {
   "cell_type": "markdown",
   "metadata": {},
   "source": [
    "#### Contextual information"
   ]
  },
  {
   "cell_type": "code",
   "execution_count": null,
   "metadata": {},
   "outputs": [],
   "source": [
    "colnames = ['feature01', 'feature02', 'feature03']"
   ]
  },
  {
   "cell_type": "code",
   "execution_count": null,
   "metadata": {},
   "outputs": [],
   "source": [
    "extract_data = defaultdict(lambda: [])\n",
    "for colname in colnames:\n",
    "    for _id in _id_arranged:\n",
    "        val = Sessions[_id]['contextual_data'][key].values[-1]\n",
    "        extract_data[key].append(val)\n",
    "    # end for\n",
    "# end for\n",
    "\n",
    "extract_data = dict(extract_data)\n",
    "for key in extract_data.keys():\n",
    "    DF[key] = extract_data[key]\n",
    "# end for"
   ]
  },
  {
   "cell_type": "markdown",
   "metadata": {},
   "source": [
    "#### Accumulation / DF.*escriptive"
   ]
  },
  {
   "cell_type": "code",
   "execution_count": null,
   "metadata": {},
   "outputs": [],
   "source": [
    "T = {}\n",
    "for _id in Sessions.keys():\n",
    "    output = {}\n",
    "    records = Sessions[_id]['track_records']\n",
    "    \n",
    "    \n",
    "    # ================ ACCUMULATIVE ================ #\n",
    "    # unique count\n",
    "    colnames = ['feature04', 'feature05', 'feature06']\n",
    "    temp =   distinct_count(records, colnames)\n",
    "    for key in colnames:\n",
    "        output['ucount_'+key] = temp.pop(key)\n",
    "    # end for\n",
    "\n",
    "    # min\n",
    "    colnames = ['feature07', 'feature08', 'feature09']\n",
    "    temp = accumulative_min(records, colnames)\n",
    "    for key in colnames:\n",
    "        output['min_'+key] = temp.pop(key)\n",
    "    # end for\n",
    "\n",
    "    # max\n",
    "    colnames = ['feature10', 'feature11', 'feature12']\n",
    "    temp = accumulative_max(records, colnames)\n",
    "    for key in colnames:\n",
    "        output['max_'+key] = temp.pop(key)\n",
    "    # end for\n",
    "\n",
    "    # sum\n",
    "    colnames = ['feature13', 'feature14', 'feature15']\n",
    "    temp = accumulative_sum(records, colnames)\n",
    "    for key in colnames:\n",
    "        output['sum_'+key] = temp.pop(key)\n",
    "    # end for\n",
    "\n",
    "    # ================ features combination ================ #\n",
    "    output['feature_comb_1_2'] = output['feature_01'] + output['feature_02']\n",
    "    output['feature_comb_3_4'] = output['feature_03'] / output['feature_04']\n",
    "     \n",
    "    # ================ TRENDF.*ING ================ #\n",
    "    # increase rate\n",
    "    colnames = ['feature13', 'feature14', 'feature_comb_1_2']\n",
    "    temp = accumulative_inc(records, 'dt_col', colnames)\n",
    "    for key in colnames:\n",
    "        output['inc_'+key] = temp.pop(key)\n",
    "    # end for\n",
    "    \n",
    "    T[_id] = output\n",
    "# end for"
   ]
  },
  {
   "cell_type": "code",
   "execution_count": null,
   "metadata": {},
   "outputs": [],
   "source": [
    "# make to dataframe\n",
    "T = pd.DataFrame(T).transpose()"
   ]
  },
  {
   "cell_type": "code",
   "execution_count": null,
   "metadata": {},
   "outputs": [],
   "source": [
    "# concat to main table\n",
    "DF = pd.concat([DF.*, T], axis=1)"
   ]
  },
  {
   "cell_type": "markdown",
   "metadata": {},
   "source": [
    "### Export to file"
   ]
  },
  {
   "cell_type": "code",
   "execution_count": null,
   "metadata": {},
   "outputs": [],
   "source": [
    "# specify output\n",
    "outfilename = working_dir + '/vars/DF.*_input.%s.pickle' % int(utc_timestamp())\n",
    "__nb_logger.info('write to output: %s' % outfilename)"
   ]
  },
  {
   "cell_type": "code",
   "execution_count": null,
   "metadata": {},
   "outputs": [],
   "source": [
    "pickle.dump(DF.*, open(outfilename, 'w'))"
   ]
  }
 ],
 "metadata": {
  "kernelspec": {
   "display_name": "Python 2",
   "language": "python",
   "name": "python2"
  },
  "language_info": {
   "codemirror_mode": {
    "name": "ipython",
    "version": 2
   },
   "file_extension": ".py",
   "mimetype": "text/x-python",
   "name": "python",
   "nbconvert_exporter": "python",
   "pygments_lexer": "ipython2",
   "version": "2.7.12+"
  }
 },
 "nbformat": 4,
 "nbformat_minor": 2
}
