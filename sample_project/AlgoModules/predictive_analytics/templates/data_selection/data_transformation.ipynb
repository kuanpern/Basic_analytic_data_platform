{
 "cells": [
  {
   "cell_type": "markdown",
   "metadata": {},
   "source": [
    "# Data transformation"
   ]
  },
  {
   "cell_type": "markdown",
   "metadata": {},
   "source": [
    "Description: data transformation and missing value handling"
   ]
  },
  {
   "cell_type": "code",
   "execution_count": null,
   "metadata": {},
   "outputs": [],
   "source": [
    "# set project and working directory\n",
    "home_dir = os.environ['project_home']"
   ]
  },
  {
   "cell_type": "markdown",
   "metadata": {},
   "source": [
    "### === MAIN ==="
   ]
  },
  {
   "cell_type": "markdown",
   "metadata": {},
   "source": [
    "#### ==== parameters setting ===="
   ]
  },
  {
   "cell_type": "code",
   "execution_count": null,
   "metadata": {},
   "outputs": [],
   "source": [
    "import datetime\n",
    "cur_date = datetime.datetime.now()\n",
    "parameter_01 = 0\n",
    "parameter_02 = 0\n",
    "parameter_03 = 0"
   ]
  },
  {
   "cell_type": "markdown",
   "metadata": {},
   "source": [
    "### Read data"
   ]
  },
  {
   "cell_type": "code",
   "execution_count": null,
   "metadata": {},
   "outputs": [],
   "source": [
    "data_source_dir = working_dir+'/vars/'\n",
    "\n",
    "# select latest dated file (track record)\n",
    "cmd = 'ls {data_source_dir}/Sessions.*.pickle'.format(data_source_dir=data_source_dir)\n",
    "input_filepath = commands.getoutput(cmd).splitlines()[-1]\n",
    "__nb_logger.info('reading file: %s' % input_filepath)\n",
    "Sessions = pickle.load(open(input_filepath))"
   ]
  },
  {
   "cell_type": "markdown",
   "metadata": {},
   "source": [
    "#### Filling missing values"
   ]
  },
  {
   "cell_type": "code",
   "execution_count": null,
   "metadata": {},
   "outputs": [],
   "source": [
    "fillers = {\n",
    "  'contextual_data': {\n",
    "    'feature_01': 'default_01',\n",
    "    'feature_02': 'default_02',\n",
    "    'feature_03': 'default_03',\n",
    "  },\n",
    "  'track_records': {\n",
    "    'feature_04': 'default_04',\n",
    "    'feature_05': 'default_05',\n",
    "    'feature_06': 'default_06',        \n",
    "  }\n",
    "} # end filler"
   ]
  },
  {
   "cell_type": "code",
   "execution_count": null,
   "metadata": {},
   "outputs": [],
   "source": [
    "for _id in Sessions.keys():\n",
    "    # contextual\n",
    "    for key, val in fillers['contextual_data'].iteritems():\n",
    "        Sessions[_id]['contextural_data'][key].fillna(val, inplace=True)\n",
    "    # end for\n",
    "    \n",
    "    # track-records\n",
    "    for key, val in fillers['track_records'].iteritems():\n",
    "        Sessions[_id]   ['track_records'][key].fillna(val, inplace=True)\n",
    "    # end for\n",
    "# end for"
   ]
  },
  {
   "cell_type": "markdown",
   "metadata": {},
   "source": [
    "#### Dates"
   ]
  },
  {
   "cell_type": "code",
   "execution_count": null,
   "metadata": {},
   "outputs": [],
   "source": [
    "import dateutil\n",
    "colnames = ['date_feature_01', 'date_feature_02', 'date_feature_03']"
   ]
  },
  {
   "cell_type": "code",
   "execution_count": null,
   "metadata": {},
   "outputs": [],
   "source": [
    "for _id in Sessions.keys():\n",
    "    for colname in colnames:\n",
    "        dt_vals = Sessions[_id]['track_records'][colname].values\n",
    "        ds = cur_date - np.array(map(dateutil.parser.parse, dt_vals))\n",
    "        Sessions[_id]['track_records']['days_past_'+colname] = ds\n",
    "    # end for\n",
    "# end for"
   ]
  },
  {
   "cell_type": "markdown",
   "metadata": {},
   "source": [
    "#### Log-transformation"
   ]
  },
  {
   "cell_type": "code",
   "execution_count": null,
   "metadata": {},
   "outputs": [],
   "source": [
    "colnames = ['feature_01', 'feature_02', 'feature_03']"
   ]
  },
  {
   "cell_type": "code",
   "execution_count": null,
   "metadata": {},
   "outputs": [],
   "source": [
    "for _id in Sessions.keys():\n",
    "    for colname in colnames:\n",
    "        dt_vals = Sessions[_id]['track_records'][colname].values\n",
    "        ds = np.log(1 + dt_vals)\n",
    "        Sessions[_id]['track_records']['log_'+colname] = ds\n",
    "    # end for\n",
    "# end for"
   ]
  },
  {
   "cell_type": "markdown",
   "metadata": {},
   "source": [
    "### Export to file"
   ]
  },
  {
   "cell_type": "code",
   "execution_count": null,
   "metadata": {},
   "outputs": [],
   "source": [
    "# specify output\n",
    "outfilename = working_dir + '/vars/Sessions.%s.pickle' % int(utc_timestamp())\n",
    "__nb_logger.info('write to output: %s' % outfilename)"
   ]
  },
  {
   "cell_type": "code",
   "execution_count": null,
   "metadata": {},
   "outputs": [],
   "source": [
    "pickle.dump(Sessions, open(outfilename, 'w'))"
   ]
  }
 ],
 "metadata": {
  "kernelspec": {
   "display_name": "Python 2",
   "language": "python",
   "name": "python2"
  },
  "language_info": {
   "codemirror_mode": {
    "name": "ipython",
    "version": 2
   },
   "file_extension": ".py",
   "mimetype": "text/x-python",
   "name": "python",
   "nbconvert_exporter": "python",
   "pygments_lexer": "ipython2",
   "version": "2.7.12+"
  }
 },
 "nbformat": 4,
 "nbformat_minor": 2
}
