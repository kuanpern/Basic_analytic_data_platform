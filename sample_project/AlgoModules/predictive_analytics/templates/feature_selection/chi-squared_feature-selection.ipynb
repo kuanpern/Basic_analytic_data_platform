{
 "cells": [
  {
   "cell_type": "markdown",
   "metadata": {},
   "source": [
    "# Feature importance by chi-squared test"
   ]
  },
  {
   "cell_type": "markdown",
   "metadata": {},
   "source": [
    "Description: Use chi-squared test to determine if to include a feature in machine learning pipeline"
   ]
  },
  {
   "cell_type": "code",
   "execution_count": null,
   "metadata": {},
   "outputs": [],
   "source": [
    "# set project and working directory\n",
    "home_dir = os.environ['project_home']"
   ]
  },
  {
   "cell_type": "code",
   "execution_count": null,
   "metadata": {},
   "outputs": [],
   "source": [
    "# import other libraries\n",
    "from scipy.stats import chi2_contingency"
   ]
  },
  {
   "cell_type": "markdown",
   "metadata": {},
   "source": [
    "### === MAIN ==="
   ]
  },
  {
   "cell_type": "markdown",
   "metadata": {},
   "source": [
    "#### ==== Parameters setting ===="
   ]
  },
  {
   "cell_type": "code",
   "execution_count": null,
   "metadata": {},
   "outputs": [],
   "source": [
    "p_cut = 0.20 # p-value cut-off\n",
    "logp_cut = np.log(p_cut)\n",
    "n_min = 5"
   ]
  },
  {
   "cell_type": "markdown",
   "metadata": {},
   "source": [
    "#### Read input"
   ]
  },
  {
   "cell_type": "code",
   "execution_count": null,
   "metadata": {},
   "outputs": [],
   "source": [
    "data_source_dir = working_dir+'/vars/'\n",
    "\n",
    "# select latest dated file (track record)\n",
    "cmd = 'ls {data_source_dir}/DF.*.*.pickle'.format(data_source_dir=data_source_dir)\n",
    "input_filepath = commands.getoutput(cmd).splitlines()[-1]\n",
    "__nb_logger.info('reading file: %s' % input_filepath)\n",
    "DF = pickle.load(open(input_filepath))"
   ]
  },
  {
   "cell_type": "markdown",
   "metadata": {},
   "source": [
    "### Run chi-square test for feature relevance"
   ]
  },
  {
   "cell_type": "code",
   "execution_count": null,
   "metadata": {},
   "outputs": [],
   "source": [
    "colnames = ['feature_01'. 'feature_02', 'feature_03']"
   ]
  },
  {
   "cell_type": "code",
   "execution_count": null,
   "metadata": {},
   "outputs": [],
   "source": [
    "Records = {}\n",
    "for colname in colnames:\n",
    "    output = {}\n",
    "    \n",
    "    # make contigency table\n",
    "    temp = defaultdict(lambda: 0)\n",
    "    temp.update(count_elements(DF[[colname, '__label']].dropna().values))\n",
    "    ps = set(DF[colname]  .dropna().values)\n",
    "    qs = set(DF['__label'].dropna().values)\n",
    "    cont_table = np.zeros([len(ps), len(qs)])\n",
    "    for i in range(len(ps)):\n",
    "        for j in range(len(qs)):\n",
    "            cont_table[i][j] = temp[(ps[i], qs[j])]\n",
    "        # end for\n",
    "    # end for\n",
    "    \n",
    "    # make expected table\n",
    "    psum = map(sum, exp_table)\n",
    "    qsum = map(sum, zip(*exp_table))\n",
    "    exp_table = np.empty_like(cont_table)\n",
    "    for i in range(len(psum)):\n",
    "        for j in range(len(qsum)):\n",
    "            exp_table[i][j] = psum[i] * qsum[j]\n",
    "        # end for\n",
    "    # end for\n",
    "    # normalize\n",
    "    r = sum(map(sum, cont_table)) / sum(map(sum,  exp_table))\n",
    "    exp_table = map(list, np.array(exp_table) * r)\n",
    "    \n",
    "    # record\n",
    "    _df = pd.DataFrame(cont_table)\n",
    "    _df.columns = qs; _df.index = ps\n",
    "    output['contigency_table'] = _df\n",
    "    \n",
    "    _df = pd.DataFrame(exp_table)\n",
    "    _df.columns = qs; _df.index = ps    \n",
    "    output['contigency_table_expected'] = _df\n",
    "    \n",
    "    odd_table = np.array(cont_table) / np.array(exp_table)\n",
    "    _df = pd.DataFrame(odd_table)\n",
    "    _df.columns = qs; _df.index = ps        \n",
    "    output['contigency_table_ratio'] = _df\n",
    "    \n",
    "    # run chi-squared test\n",
    "    chi2, p, dof, ex = chi2_contingency(cont_table)\n",
    "    output['chi2_test'] = {\n",
    "        'chi2': chi2, 'p': p, 'dof': dof, 'ex': ex\n",
    "    } # end chi2_test\n",
    "\n",
    "    # record\n",
    "    Records[colname] = output\n",
    "# end for\n"
   ]
  },
  {
   "cell_type": "markdown",
   "metadata": {},
   "source": [
    "### DFsiplay test results"
   ]
  },
  {
   "cell_type": "code",
   "execution_count": null,
   "metadata": {},
   "outputs": [],
   "source": [
    "from IPython.display import Markdown, display\n",
    "for colname in Records.keys():\n",
    "    display(Markdown(\"<b>\"+colname+\"</b>\"))\n",
    "    display(Records[colname]['contigency_table'])\n",
    "    print   Records[colname]['chi2_test']\n",
    "    print\n",
    "    print '_'*50\n",
    "# end for"
   ]
  },
  {
   "cell_type": "code",
   "execution_count": null,
   "metadata": {},
   "outputs": [],
   "source": [
    "temp = {}\n",
    "for colname in Records.keys():\n",
    "    temp[colname] = Records[colname]['chi2_test']\n",
    "# end for\n",
    "_df = pd.DataFrame(temp).transpose()\n",
    "_df"
   ]
  },
  {
   "cell_type": "markdown",
   "metadata": {},
   "source": [
    "### Make selection here"
   ]
  },
  {
   "cell_type": "code",
   "execution_count": null,
   "metadata": {},
   "outputs": [],
   "source": [
    "sels = _df[_df['p'] < p_cut].index\n",
    "print 'Selected feature at cut-off p-value=%5.2f: [%s]' % (p_cut, ', '.join(map(str, sels))"
   ]
  },
  {
   "cell_type": "markdown",
   "metadata": {},
   "source": [
    "### Export to file"
   ]
  },
  {
   "cell_type": "code",
   "execution_count": null,
   "metadata": {},
   "outputs": [],
   "source": [
    "_timestamp = int(utc_timestamp())"
   ]
  },
  {
   "cell_type": "code",
   "execution_count": null,
   "metadata": {},
   "outputs": [],
   "source": [
    "# note: should dump to excel in the next revision\n",
    "# specify output\n",
    "outfilename = working_dir + '/vars/chi-squared_test.rawtables.%s.pickle' % _timestamp\n",
    "__nb_logger.info('write to output: %s' % outfilename)\n",
    "pickle.dump(Records, open(outfilename, 'w'))"
   ]
  },
  {
   "cell_type": "code",
   "execution_count": null,
   "metadata": {},
   "outputs": [],
   "source": [
    "# specify output\n",
    "outfilename = working_dir + '/vars/chi-squared_test.results.%s.xlsx' % _timestamp\n",
    "__nb_logger.info('write to output: %s' % outfilename)\n",
    "_df.to_excel(outfilename)"
   ]
  }
 ],
 "metadata": {
  "kernelspec": {
   "display_name": "Python 2",
   "language": "python",
   "name": "python2"
  },
  "language_info": {
   "codemirror_mode": {
    "name": "ipython",
    "version": 2
   },
   "file_extension": ".py",
   "mimetype": "text/x-python",
   "name": "python",
   "nbconvert_exporter": "python",
   "pygments_lexer": "ipython2",
   "version": "2.7.12+"
  }
 },
 "nbformat": 4,
 "nbformat_minor": 2
}
