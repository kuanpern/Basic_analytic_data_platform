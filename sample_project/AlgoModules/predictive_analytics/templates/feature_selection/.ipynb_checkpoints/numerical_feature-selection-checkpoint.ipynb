{
 "cells": [
  {
   "cell_type": "markdown",
   "metadata": {},
   "source": [
    "# Feature selection (exploratory)"
   ]
  },
  {
   "cell_type": "markdown",
   "metadata": {},
   "source": [
    "Description: visualize and back-of-envelop calculation for feature importances - select those to be included in ANN"
   ]
  },
  {
   "cell_type": "code",
   "execution_count": null,
   "metadata": {},
   "outputs": [],
   "source": [
    "# set project and working directory\n",
    "home_dir = os.environ['project_home']"
   ]
  },
  {
   "cell_type": "markdown",
   "metadata": {},
   "source": [
    "## Main"
   ]
  },
  {
   "cell_type": "markdown",
   "metadata": {},
   "source": [
    "### Read input"
   ]
  },
  {
   "cell_type": "code",
   "execution_count": null,
   "metadata": {},
   "outputs": [],
   "source": [
    "data_source_dir = working_dir+'/vars/'\n",
    "\n",
    "# select latest dated file (track record)\n",
    "cmd = 'ls {data_source_dir}/DF.*.*.pickle'.format(data_source_dir=data_source_dir)\n",
    "input_filepath = commands.getoutput(cmd).splitlines()[-1]\n",
    "__nb_logger.info('reading file: %s' % input_filepath)\n",
    "DF = pickle.load(open(input_filepath))"
   ]
  },
  {
   "cell_type": "markdown",
   "metadata": {},
   "source": [
    "### Descriptive stats parameters"
   ]
  },
  {
   "cell_type": "code",
   "execution_count": null,
   "metadata": {},
   "outputs": [],
   "source": [
    "colnames = ['feature_01', 'feature_02', 'feature_03']"
   ]
  },
  {
   "cell_type": "code",
   "execution_count": null,
   "metadata": {},
   "outputs": [],
   "source": [
    "descriptive_stats = {}\n",
    "for colname in colnames:\n",
    "    _df = pd.DataFrame(df[[colname, '__label']].groupby('__label').agg(simple_stats).to_dict()['colname']).transpose()\n",
    "    descriptive_stats[colname] = _df\n",
    "# end for"
   ]
  },
  {
   "cell_type": "markdown",
   "metadata": {},
   "source": [
    "### Plots"
   ]
  },
  {
   "cell_type": "code",
   "execution_count": null,
   "metadata": {},
   "outputs": [],
   "source": [
    "temp_fig_filenames = {}\n",
    "for colname in colnames:\n",
    "    label_options = list(set(DF['__label'].values))\n",
    "    plts = []\n",
    "    for _label in label_options:\n",
    "        dets = DF['__label'] == _label\n",
    "        vals = DF[ dets][colname]\n",
    "        _plt = plt.hist(p, normed=True, alpha=1./len(label_options), bins=25)[-1][0]\n",
    "        plts.append(_plt)\n",
    "    # end for\n",
    "    plt.title(colname)\n",
    "    plt.legend(plts, label_options)\n",
    "    outfigname = unique_filename()+'.png'\n",
    "    temp_fig_filenames[colname] = outfigname\n",
    "    plt.savefig(outfigname)\n",
    "# end for"
   ]
  },
  {
   "cell_type": "code",
   "execution_count": null,
   "metadata": {},
   "outputs": [],
   "source": [
    "from IPython.display import Image, display\n",
    "display(*[Image(temp_fig_filenames[colname]) for colname in colnames])"
   ]
  },
  {
   "cell_type": "code",
   "execution_count": null,
   "metadata": {},
   "outputs": [],
   "source": [
    "# remove temporary files\n",
    "for path in temp_fig_filenames.values():\n",
    "    os.remove(path)\n",
    "# end for"
   ]
  },
  {
   "cell_type": "markdown",
   "metadata": {},
   "source": [
    "### Save to file"
   ]
  },
  {
   "cell_type": "code",
   "execution_count": null,
   "metadata": {},
   "outputs": [],
   "source": [
    "# note: should dump to excel in the next revision\n",
    "# specify output\n",
    "outfilename = working_dir + '/vars/numerical_stats_description.%s.pickle' % _timestamp\n",
    "__nb_logger.info('write to output: %s' % outfilename)\n",
    "pickle.dump(descriptive_stats, open(outfilename, 'w'))"
   ]
  }
 ],
 "metadata": {
  "kernelspec": {
   "display_name": "Python 2",
   "language": "python",
   "name": "python2"
  },
  "language_info": {
   "codemirror_mode": {
    "name": "ipython",
    "version": 2
   },
   "file_extension": ".py",
   "mimetype": "text/x-python",
   "name": "python",
   "nbconvert_exporter": "python",
   "pygments_lexer": "ipython2",
   "version": "2.7.12+"
  }
 },
 "nbformat": 4,
 "nbformat_minor": 2
}
