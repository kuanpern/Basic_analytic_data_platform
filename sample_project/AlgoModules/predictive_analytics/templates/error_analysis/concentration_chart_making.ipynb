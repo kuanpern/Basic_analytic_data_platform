{
 "cells": [
  {
   "cell_type": "markdown",
   "metadata": {},
   "source": [
    "# Plot concentration chart"
   ]
  },
  {
   "cell_type": "markdown",
   "metadata": {},
   "source": [
    "Description: binary classification only"
   ]
  },
  {
   "cell_type": "code",
   "execution_count": null,
   "metadata": {},
   "outputs": [],
   "source": [
    "# set project and working directory\n",
    "home_dir = os.environ['project_home']"
   ]
  },
  {
   "cell_type": "markdown",
   "metadata": {},
   "source": [
    "### === MAIN ==="
   ]
  },
  {
   "cell_type": "markdown",
   "metadata": {},
   "source": [
    "#### Parameters setting"
   ]
  },
  {
   "cell_type": "code",
   "execution_count": null,
   "metadata": {},
   "outputs": [],
   "source": [
    "n_bar = 2000\n",
    "colors_dict = {True: 'red', False: 'blue'}"
   ]
  },
  {
   "cell_type": "markdown",
   "metadata": {},
   "source": [
    "### Read input"
   ]
  },
  {
   "cell_type": "code",
   "execution_count": null,
   "metadata": {},
   "outputs": [],
   "source": [
    "df = pd.read_excel('input.xlxs')"
   ]
  },
  {
   "cell_type": "code",
   "execution_count": null,
   "metadata": {},
   "outputs": [],
   "source": [
    "# set color data\n",
    "df = df[['score', '__label']]\n",
    "df.sort_values(by='score', inplace=True)\n",
    "_df['color'] = map(colors_dict.get, _df['label'])"
   ]
  },
  {
   "cell_type": "markdown",
   "metadata": {},
   "source": [
    "### Aggregagtion"
   ]
  },
  {
   "cell_type": "code",
   "execution_count": null,
   "metadata": {},
   "outputs": [],
   "source": [
    "bin_size = len(scores) / n_bar\n",
    "bin_size = int(bin_size + 0.5)"
   ]
  },
  {
   "cell_type": "code",
   "execution_count": null,
   "metadata": {},
   "outputs": [],
   "source": [
    "scores = _df['score'].values\n",
    "colors = _df['color'].values\n",
    "\n",
    "boxes = [[]]\n",
    "for i in range(len(scores)):\n",
    "    if i % bin_size == 0:\n",
    "        boxes.append([])\n",
    "    # end if\n",
    "    boxes[-1].append([scores[i], colors[i]])\n",
    "# end for\n",
    "boxes = boxes[1:]"
   ]
  },
  {
   "cell_type": "code",
   "execution_count": null,
   "metadata": {},
   "outputs": [],
   "source": [
    "# aggregated mean and color\n",
    "out = []\n",
    "for _box in boxes:\n",
    "    _scores, _colors = zip(*_box)\n",
    "    _score = mean(_scores)\n",
    "\n",
    "    swap = defaultdict(lambda: 0)\n",
    "    swap.update(normalize_dict(count_elements(_colors)))\n",
    "    _color = (swap['red'], swap['blue']*0.75, swap['blue'])\n",
    "    \n",
    "    out.append([_score, _color])\n",
    "# end for"
   ]
  },
  {
   "cell_type": "code",
   "execution_count": null,
   "metadata": {},
   "outputs": [],
   "source": [
    "ys, colors = zip(*out)\n",
    "xs = range(len(ys))"
   ]
  },
  {
   "cell_type": "code",
   "execution_count": null,
   "metadata": {},
   "outputs": [],
   "source": [
    "# format x labeling\n",
    "xtics_pos   = np.linspace(0, len(xs), 11)\n",
    "xtics_label = xtics_pos*bin_size\n",
    "\n",
    "xtics_label = zip(xtics_label, (xtics_label / xtics_label[-1])*100)\n",
    "swap = []\n",
    "for item in xtics_label:\n",
    "    num, per = item\n",
    "    num = str(int(num))\n",
    "    per = str(int(per)) + '%'\n",
    "    swap.append(num+'\\n('+per+')')\n",
    "# end for\n",
    "xtics_label = swap"
   ]
  },
  {
   "cell_type": "code",
   "execution_count": null,
   "metadata": {},
   "outputs": [],
   "source": [
    "plt.bar(xs, ys, color = colors, width=bin_size);\n",
    "plt.xticks(xtics_pos, xtics_label)\n",
    "plt.xlim(0-5, len(boxes)+5)\n",
    "plt.ylim(0, 1)\n",
    "plt.gcf().set_size_inches(16, 9)\n",
    "plt.xlabel('Ranking')\n",
    "plt.ylabel('Score')"
   ]
  },
  {
   "cell_type": "code",
   "execution_count": null,
   "metadata": {},
   "outputs": [],
   "source": []
  }
 ],
 "metadata": {
  "kernelspec": {
   "display_name": "Python 2",
   "language": "python",
   "name": "python2"
  },
  "language_info": {
   "codemirror_mode": {
    "name": "ipython",
    "version": 2
   },
   "file_extension": ".py",
   "mimetype": "text/x-python",
   "name": "python",
   "nbconvert_exporter": "python",
   "pygments_lexer": "ipython2",
   "version": "2.7.12+"
  }
 },
 "nbformat": 4,
 "nbformat_minor": 2
}
