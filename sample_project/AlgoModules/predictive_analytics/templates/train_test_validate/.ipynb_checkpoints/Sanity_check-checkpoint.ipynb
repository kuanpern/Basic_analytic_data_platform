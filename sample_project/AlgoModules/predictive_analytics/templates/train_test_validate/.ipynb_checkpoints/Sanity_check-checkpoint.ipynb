{
 "cells": [
  {
   "cell_type": "markdown",
   "metadata": {},
   "source": [
    "## Sanity check of ML model"
   ]
  },
  {
   "cell_type": "code",
   "execution_count": null,
   "metadata": {},
   "outputs": [],
   "source": [
    "# set project and working directory\n",
    "home_dir = os.environ['project_home']"
   ]
  },
  {
   "cell_type": "markdown",
   "metadata": {},
   "source": [
    "### read input"
   ]
  },
  {
   "cell_type": "code",
   "execution_count": null,
   "metadata": {},
   "outputs": [],
   "source": [
    "data_source_dir = working_dir+'/vars/'\n",
    "\n",
    "# select latest dated file (track record)\n",
    "cmd = 'ls {data_source_dir}/DF.*.pickle'.format(data_source_dir=data_source_dir)\n",
    "input_filepath = commands.getoutput(cmd).splitlines()[-1]\n",
    "__nb_logger.info('reading file: %s' % input_filepath)\n",
    "DF = pickle.load(open(input_filepath))"
   ]
  },
  {
   "cell_type": "markdown",
   "metadata": {},
   "source": [
    "### Separate to high / low score and see if the result fits intuition"
   ]
  },
  {
   "cell_type": "code",
   "execution_count": null,
   "metadata": {},
   "outputs": [],
   "source": [
    "thr = sorted(list(DF['score'].values))[-int(len(DF['score']) * 0.30)]"
   ]
  },
  {
   "cell_type": "code",
   "execution_count": null,
   "metadata": {},
   "outputs": [],
   "source": [
    "DF['high_score'] = DF['score'] > thr"
   ]
  },
  {
   "cell_type": "code",
   "execution_count": null,
   "metadata": {},
   "outputs": [],
   "source": [
    "DF[['feature_01', 'high_score']].groupby('high_score').agg(np.mean)"
   ]
  }
 ],
 "metadata": {
  "kernelspec": {
   "display_name": "Python 2",
   "language": "python",
   "name": "python2"
  },
  "language_info": {
   "codemirror_mode": {
    "name": "ipython",
    "version": 2
   },
   "file_extension": ".py",
   "mimetype": "text/x-python",
   "name": "python",
   "nbconvert_exporter": "python",
   "pygments_lexer": "ipython2",
   "version": "2.7.12+"
  }
 },
 "nbformat": 4,
 "nbformat_minor": 2
}
