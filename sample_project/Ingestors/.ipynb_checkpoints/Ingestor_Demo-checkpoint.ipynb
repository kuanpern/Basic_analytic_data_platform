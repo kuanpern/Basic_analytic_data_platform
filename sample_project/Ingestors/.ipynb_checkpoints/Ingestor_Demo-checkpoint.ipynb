{
 "cells": [
  {
   "cell_type": "markdown",
   "metadata": {},
   "source": [
    "# Ingestor"
   ]
  },
  {
   "cell_type": "markdown",
   "metadata": {},
   "source": [
    "Description: pull weather forecast data from NEA Singapore\n",
    "\n",
    "Impt: NEA disallows mechanical scrapping (https://www.nea.gov.sg/robots.txt). Please do not use this in production."
   ]
  },
  {
   "cell_type": "code",
   "execution_count": 1,
   "metadata": {},
   "outputs": [],
   "source": [
    "# import libraries\n",
    "import time\n",
    "import requests"
   ]
  },
  {
   "cell_type": "markdown",
   "metadata": {},
   "source": [
    "### Retrieving data"
   ]
  },
  {
   "cell_type": "code",
   "execution_count": 2,
   "metadata": {},
   "outputs": [],
   "source": [
    "url = 'http://www.nea.gov.sg/weather-climate/forecasts/24-hour-forecast'\n",
    "r = requests.get(url)"
   ]
  },
  {
   "cell_type": "markdown",
   "metadata": {},
   "source": [
    "### Export data"
   ]
  },
  {
   "cell_type": "code",
   "execution_count": 3,
   "metadata": {},
   "outputs": [],
   "source": [
    "#project_home = os.environ['project_home'] # <- actual run\n",
    "project_home = '/home/scube_backend/airflow_analysis_pipe'\n",
    "outdir = project_home + '/data/'\n",
    "outfilename = outdir + '/sg-weather-forecast.'+str(int(time.time()))+'.html'\n",
    "fout = open(outfilename, 'w')\n",
    "fout.writelines(r.content)\n",
    "fout.close()"
   ]
  }
 ],
 "metadata": {
  "kernelspec": {
   "display_name": "Python 2",
   "language": "python",
   "name": "python2"
  },
  "language_info": {
   "codemirror_mode": {
    "name": "ipython",
    "version": 2
   },
   "file_extension": ".py",
   "mimetype": "text/x-python",
   "name": "python",
   "nbconvert_exporter": "python",
   "pygments_lexer": "ipython2",
   "version": "2.7.12+"
  }
 },
 "nbformat": 4,
 "nbformat_minor": 2
}
