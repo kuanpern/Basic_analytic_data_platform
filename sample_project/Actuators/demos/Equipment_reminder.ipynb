{
 "cells": [
  {
   "cell_type": "markdown",
   "metadata": {},
   "source": [
    "# Remind if there is impending stormy weather"
   ]
  },
  {
   "cell_type": "code",
   "execution_count": 1,
   "metadata": {},
   "outputs": [],
   "source": [
    "# import library\n",
    "import datetime\n",
    "import commands\n",
    "import pandas as pd\n",
    "import dateutil.parser"
   ]
  },
  {
   "cell_type": "markdown",
   "metadata": {},
   "source": [
    "### Read data"
   ]
  },
  {
   "cell_type": "code",
   "execution_count": 2,
   "metadata": {},
   "outputs": [
    {
     "name": "stdout",
     "output_type": "stream",
     "text": [
      "filename: /home/scube_backend/airflow_analysis_pipe/data//sg_weather_data.csv\n"
     ]
    }
   ],
   "source": [
    "#project_home = os.environ['project_home'] # <- actual run\n",
    "project_home = '/home/scube_backend/airflow_analysis_pipe'\n",
    "datadir = project_home + '/data/'\n",
    "cmd = 'ls {datadir}/sg_weather_data.csv'.format(datadir=datadir)\n",
    "filename = commands.getoutput(cmd).splitlines()[-1]\n",
    "print 'filename:', filename"
   ]
  },
  {
   "cell_type": "code",
   "execution_count": 3,
   "metadata": {},
   "outputs": [
    {
     "data": {
      "text/html": [
       "<div>\n",
       "<style scoped>\n",
       "    .dataframe tbody tr th:only-of-type {\n",
       "        vertical-align: middle;\n",
       "    }\n",
       "\n",
       "    .dataframe tbody tr th {\n",
       "        vertical-align: top;\n",
       "    }\n",
       "\n",
       "    .dataframe thead th {\n",
       "        text-align: right;\n",
       "    }\n",
       "</style>\n",
       "<table border=\"1\" class=\"dataframe\">\n",
       "  <thead>\n",
       "    <tr style=\"text-align: right;\">\n",
       "      <th></th>\n",
       "      <th>timestamp</th>\n",
       "      <th>high</th>\n",
       "      <th>low</th>\n",
       "      <th>description</th>\n",
       "    </tr>\n",
       "  </thead>\n",
       "  <tbody>\n",
       "    <tr>\n",
       "      <th>0</th>\n",
       "      <td>2018-04-15T11:34:00</td>\n",
       "      <td>34.0</td>\n",
       "      <td>24.0</td>\n",
       "      <td>Thundery showers over many areas in the aftern...</td>\n",
       "    </tr>\n",
       "  </tbody>\n",
       "</table>\n",
       "</div>"
      ],
      "text/plain": [
       "             timestamp  high   low  \\\n",
       "0  2018-04-15T11:34:00  34.0  24.0   \n",
       "\n",
       "                                         description  \n",
       "0  Thundery showers over many areas in the aftern...  "
      ]
     },
     "execution_count": 3,
     "metadata": {},
     "output_type": "execute_result"
    }
   ],
   "source": [
    "df = pd.read_csv(filename, sep='|')\n",
    "df"
   ]
  },
  {
   "cell_type": "markdown",
   "metadata": {},
   "source": [
    "### Run algorithm"
   ]
  },
  {
   "cell_type": "code",
   "execution_count": 4,
   "metadata": {},
   "outputs": [
    {
     "data": {
      "text/html": [
       "<div>\n",
       "<style scoped>\n",
       "    .dataframe tbody tr th:only-of-type {\n",
       "        vertical-align: middle;\n",
       "    }\n",
       "\n",
       "    .dataframe tbody tr th {\n",
       "        vertical-align: top;\n",
       "    }\n",
       "\n",
       "    .dataframe thead th {\n",
       "        text-align: right;\n",
       "    }\n",
       "</style>\n",
       "<table border=\"1\" class=\"dataframe\">\n",
       "  <thead>\n",
       "    <tr style=\"text-align: right;\">\n",
       "      <th></th>\n",
       "      <th>timestamp</th>\n",
       "      <th>high</th>\n",
       "      <th>low</th>\n",
       "      <th>description</th>\n",
       "    </tr>\n",
       "  </thead>\n",
       "  <tbody>\n",
       "    <tr>\n",
       "      <th>0</th>\n",
       "      <td>2018-04-15T11:34:00</td>\n",
       "      <td>34.0</td>\n",
       "      <td>24.0</td>\n",
       "      <td>Thundery showers over many areas in the aftern...</td>\n",
       "    </tr>\n",
       "  </tbody>\n",
       "</table>\n",
       "</div>"
      ],
      "text/plain": [
       "             timestamp  high   low  \\\n",
       "0  2018-04-15T11:34:00  34.0  24.0   \n",
       "\n",
       "                                         description  \n",
       "0  Thundery showers over many areas in the aftern...  "
      ]
     },
     "execution_count": 4,
     "metadata": {},
     "output_type": "execute_result"
    }
   ],
   "source": [
    "# extract today\n",
    "_today = datetime.datetime.now().isoformat().split('T')[0]\n",
    "dets = [_.split('T')[0] == _today for _ in df['timestamp']]\n",
    "df_today = df[dets]\n",
    "df_today"
   ]
  },
  {
   "cell_type": "code",
   "execution_count": 5,
   "metadata": {},
   "outputs": [
    {
     "data": {
      "text/plain": [
       "{'description': 'Thundery showers over many areas in the afternoon.',\n",
       " 'high': 34.0,\n",
       " 'low': 24.0,\n",
       " 'timestamp': '2018-04-15T11:34:00'}"
      ]
     },
     "execution_count": 5,
     "metadata": {},
     "output_type": "execute_result"
    }
   ],
   "source": [
    "# find latest record\n",
    "rec = df_today.sort_values(by='timestamp').iloc[-1].to_dict()\n",
    "rec"
   ]
  },
  {
   "cell_type": "code",
   "execution_count": 6,
   "metadata": {},
   "outputs": [],
   "source": [
    "# decide reminder\n",
    "equipments = []\n",
    "\n",
    "#  - umbrella\n",
    "desc_text = rec['description'].upper()\n",
    "keywords = ['RAIN', 'SHOWER', 'STORM']\n",
    "det = any([_ in desc_text for _ in keywords])\n",
    "if det == True:\n",
    "    equipments.append('umbrella')\n",
    "# end if\n",
    "\n",
    "# - coat\n",
    "if rec['low'] < 25:\n",
    "    equipments.append('coat')\n",
    "# end if\n",
    "\n",
    "# - drink\n",
    "if rec['high'] > 35:\n",
    "    equipments.append('icy drink')\n",
    "# end if"
   ]
  },
  {
   "cell_type": "code",
   "execution_count": 7,
   "metadata": {},
   "outputs": [
    {
     "name": "stdout",
     "output_type": "stream",
     "text": [
      "equipment: ['umbrella', 'coat']\n"
     ]
    }
   ],
   "source": [
    "print 'equipment:', equipments"
   ]
  },
  {
   "cell_type": "markdown",
   "metadata": {},
   "source": [
    "### Export to file"
   ]
  },
  {
   "cell_type": "code",
   "execution_count": 8,
   "metadata": {},
   "outputs": [],
   "source": [
    "timestamp = datetime.datetime.now().isoformat()\n",
    "content = ','.join(equipments)\n",
    "line = '\\t'.join([timestamp, content])"
   ]
  },
  {
   "cell_type": "code",
   "execution_count": 9,
   "metadata": {},
   "outputs": [],
   "source": [
    "# append to a \"pipe\" file\n",
    "output_dir  = project_home + '/data/'\n",
    "output_file = '{output_dir}/equipment_alert.csv'.format(output_dir=output_dir)\n",
    "\n",
    "with open(output_file, 'a') as fout:\n",
    "    fout.writelines(line+'\\n')\n",
    "# end with"
   ]
  }
 ],
 "metadata": {
  "kernelspec": {
   "display_name": "Python 2",
   "language": "python",
   "name": "python2"
  },
  "language_info": {
   "codemirror_mode": {
    "name": "ipython",
    "version": 2
   },
   "file_extension": ".py",
   "mimetype": "text/x-python",
   "name": "python",
   "nbconvert_exporter": "python",
   "pygments_lexer": "ipython2",
   "version": "2.7.12"
  }
 },
 "nbformat": 4,
 "nbformat_minor": 2
}
