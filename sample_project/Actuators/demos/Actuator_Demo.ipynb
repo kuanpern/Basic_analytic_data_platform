{
 "cells": [
  {
   "cell_type": "markdown",
   "metadata": {},
   "source": [
    "# Remind user on equipment to bring"
   ]
  },
  {
   "cell_type": "code",
   "execution_count": 1,
   "metadata": {},
   "outputs": [],
   "source": [
    "# import libraries\n",
    "import datetime\n",
    "import pandas as pd\n",
    "import time\n",
    "import os\n",
    "import sys"
   ]
  },
  {
   "cell_type": "code",
   "execution_count": 2,
   "metadata": {},
   "outputs": [
    {
     "name": "stdout",
     "output_type": "stream",
     "text": [
      "filename: /home/kuanpern/airflow_analysis_pipe/data//subscribers.list\n"
     ]
    }
   ],
   "source": [
    "# open subscriber list\n",
    "#project_home = os.environ['project_home'] # <- actual run\n",
    "project_home = '/home/kuanpern/airflow_analysis_pipe'\n",
    "datadir = project_home + '/data/'\n",
    "filename = '{datadir}/subscribers.list'.format(datadir=datadir)\n",
    "print 'filename:', filename"
   ]
  },
  {
   "cell_type": "code",
   "execution_count": 3,
   "metadata": {},
   "outputs": [
    {
     "data": {
      "text/plain": [
       "[{'email': 'admin@somecompany.com', 'username': 'David'},\n",
       " {'email': 'user004@gmail.com', 'username': 'kuanpern'}]"
      ]
     },
     "execution_count": 3,
     "metadata": {},
     "output_type": "execute_result"
    }
   ],
   "source": [
    "df_subscribers = pd.read_csv(filename, sep=',')\n",
    "subscribers = df_subscribers.transpose().to_dict().values()\n",
    "subscribers"
   ]
  },
  {
   "cell_type": "code",
   "execution_count": 4,
   "metadata": {},
   "outputs": [
    {
     "data": {
      "text/html": [
       "<div>\n",
       "<style scoped>\n",
       "    .dataframe tbody tr th:only-of-type {\n",
       "        vertical-align: middle;\n",
       "    }\n",
       "\n",
       "    .dataframe tbody tr th {\n",
       "        vertical-align: top;\n",
       "    }\n",
       "\n",
       "    .dataframe thead th {\n",
       "        text-align: right;\n",
       "    }\n",
       "</style>\n",
       "<table border=\"1\" class=\"dataframe\">\n",
       "  <thead>\n",
       "    <tr style=\"text-align: right;\">\n",
       "      <th></th>\n",
       "      <th>timestamp</th>\n",
       "      <th>equipments</th>\n",
       "    </tr>\n",
       "  </thead>\n",
       "  <tbody>\n",
       "    <tr>\n",
       "      <th>0</th>\n",
       "      <td>2018-04-15T16:10:52.388614</td>\n",
       "      <td>umbrella,coat</td>\n",
       "    </tr>\n",
       "  </tbody>\n",
       "</table>\n",
       "</div>"
      ],
      "text/plain": [
       "                    timestamp     equipments\n",
       "0  2018-04-15T16:10:52.388614  umbrella,coat"
      ]
     },
     "execution_count": 4,
     "metadata": {},
     "output_type": "execute_result"
    }
   ],
   "source": [
    "# read the \"pipe\" file\n",
    "filename = '{datadir}/equipment_alert.csv'.format(datadir=datadir)\n",
    "df = pd.read_csv(filename, sep='\\t')\n",
    "df"
   ]
  },
  {
   "cell_type": "code",
   "execution_count": 5,
   "metadata": {},
   "outputs": [
    {
     "data": {
      "text/html": [
       "<div>\n",
       "<style scoped>\n",
       "    .dataframe tbody tr th:only-of-type {\n",
       "        vertical-align: middle;\n",
       "    }\n",
       "\n",
       "    .dataframe tbody tr th {\n",
       "        vertical-align: top;\n",
       "    }\n",
       "\n",
       "    .dataframe thead th {\n",
       "        text-align: right;\n",
       "    }\n",
       "</style>\n",
       "<table border=\"1\" class=\"dataframe\">\n",
       "  <thead>\n",
       "    <tr style=\"text-align: right;\">\n",
       "      <th></th>\n",
       "      <th>timestamp</th>\n",
       "      <th>equipments</th>\n",
       "    </tr>\n",
       "  </thead>\n",
       "  <tbody>\n",
       "    <tr>\n",
       "      <th>0</th>\n",
       "      <td>2018-04-15T16:10:52.388614</td>\n",
       "      <td>umbrella,coat</td>\n",
       "    </tr>\n",
       "  </tbody>\n",
       "</table>\n",
       "</div>"
      ],
      "text/plain": [
       "                    timestamp     equipments\n",
       "0  2018-04-15T16:10:52.388614  umbrella,coat"
      ]
     },
     "execution_count": 5,
     "metadata": {},
     "output_type": "execute_result"
    }
   ],
   "source": [
    "# extract today\n",
    "_today = datetime.datetime.now().isoformat().split('T')[0]\n",
    "dets = [_.split('T')[0] == _today for _ in df['timestamp']]\n",
    "df_today = df[dets]\n",
    "df_today"
   ]
  },
  {
   "cell_type": "code",
   "execution_count": 6,
   "metadata": {},
   "outputs": [],
   "source": [
    "# find latest record\n",
    "rec = df_today.sort_values(by='timestamp').iloc[-1].to_dict()\n",
    "content = ', '.join(rec['equipments'].split(','))"
   ]
  },
  {
   "cell_type": "markdown",
   "metadata": {},
   "source": [
    "### send email"
   ]
  },
  {
   "cell_type": "code",
   "execution_count": 7,
   "metadata": {},
   "outputs": [],
   "source": [
    "# send email function\n",
    "def utils_sendMail(emailUser, recipient, subject, text, attachFile = None):\n",
    "    import subprocess\n",
    "    import tempfile\n",
    "    fp = tempfile.NamedTemporaryFile()\n",
    "    fp.write(text)\n",
    "    fp.seek(0)\n",
    "\n",
    "    cmd_template = '''mail -aFrom:{emailUser} -s \"{subject}\" --attach \"{attachFile}\" {recipient} < {textFile}'''\n",
    "    cmd = cmd_template.format(\n",
    "        emailUser = emailUser,\n",
    "        recipient = recipient,\n",
    "        subject   = subject,\n",
    "        textFile  = fp.name,\n",
    "        attachFile = attachFile\n",
    "    )\n",
    "\n",
    "    if attachFile == None:\n",
    "        cmd = cmd.replace('--attach \"None\"', '')\n",
    "    # end if\n",
    "\n",
    "    process = subprocess.Popen(cmd, shell = True)\n",
    "    process.wait()\n",
    "# end def\n"
   ]
  },
  {
   "cell_type": "code",
   "execution_count": 8,
   "metadata": {},
   "outputs": [
    {
     "name": "stdout",
     "output_type": "stream",
     "text": [
      "Hi admin, please bring umbrella, coat for the day\n",
      "Hi kuanpern, please bring umbrella, coat for the day\n"
     ]
    }
   ],
   "source": [
    "emailUser = 'admin@i-kuanpern.com'\n",
    "subject   = 'Bring weather equipment'\n",
    "\n",
    "for subscriber in subscribers:\n",
    "    text = 'Hi {username}, please bring {equipments} for the day'.format(\n",
    "        username   = subscriber['username'],\n",
    "        equipments = content\n",
    "    )\n",
    "    print text\n",
    "    #utils_sendMail(emailUser, subscriber, subject, text, attachFile = None)\n",
    "# end for"
   ]
  },
  {
   "cell_type": "code",
   "execution_count": null,
   "metadata": {},
   "outputs": [],
   "source": []
  }
 ],
 "metadata": {
  "kernelspec": {
   "display_name": "Python 2",
   "language": "python",
   "name": "python2"
  },
  "language_info": {
   "codemirror_mode": {
    "name": "ipython",
    "version": 2
   },
   "file_extension": ".py",
   "mimetype": "text/x-python",
   "name": "python",
   "nbconvert_exporter": "python",
   "pygments_lexer": "ipython2",
   "version": "2.7.12+"
  }
 },
 "nbformat": 4,
 "nbformat_minor": 2
}
