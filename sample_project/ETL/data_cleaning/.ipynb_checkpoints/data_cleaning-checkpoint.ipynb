{
 "cells": [
  {
   "cell_type": "markdown",
   "metadata": {},
   "source": [
    "# Contextual record data cleaning"
   ]
  },
  {
   "cell_type": "markdown",
   "metadata": {},
   "source": [
    "Description: Contextual data cleaning\n",
    "- Task1: De-redundancy\n",
    "- Task2: Cluster records\n",
    "- Task3: Remove empty columns\n",
    "- Task4: ???"
   ]
  },
  {
   "cell_type": "markdown",
   "metadata": {},
   "source": [
    "#### === import libaries ==="
   ]
  },
  {
   "cell_type": "code",
   "execution_count": null,
   "metadata": {},
   "outputs": [],
   "source": [
    "# import libraries\n",
    "import sys\n",
    "sys.path.append(home_dir+'/lib')"
   ]
  },
  {
   "cell_type": "markdown",
   "metadata": {},
   "source": [
    "### MAIN "
   ]
  },
  {
   "cell_type": "markdown",
   "metadata": {},
   "source": [
    "#### parameters setting"
   ]
  },
  {
   "cell_type": "code",
   "execution_count": null,
   "metadata": {},
   "outputs": [],
   "source": [
    "# if number of filled entries is less than this ratio, remove the feature\n",
    "thr = 0.01"
   ]
  },
  {
   "cell_type": "code",
   "execution_count": null,
   "metadata": {},
   "outputs": [],
   "source": [
    "data_source_dir = home_dir+'/ETL/vars/'\n",
    "\n",
    "# select latest dated file\n",
    "cmd = 'ls {data_source_dir}/context_df.*.pickle'.format(data_source_dir=data_source_dir)\n",
    "input_filepath = commands.getoutput(cmd).splitlines()[-1]\n",
    "__nb_logger.info('reading file: %s' % input_filepath)\n",
    "\n",
    "# actually read\n",
    "context_df = pickle.load(open(input_filepath))"
   ]
  },
  {
   "cell_type": "markdown",
   "metadata": {},
   "source": [
    "### Task 1"
   ]
  },
  {
   "cell_type": "markdown",
   "metadata": {},
   "source": [
    "### Task 2"
   ]
  },
  {
   "cell_type": "markdown",
   "metadata": {},
   "source": [
    "### Task 3"
   ]
  },
  {
   "cell_type": "markdown",
   "metadata": {},
   "source": [
    "### Task 4"
   ]
  },
  {
   "cell_type": "markdown",
   "metadata": {},
   "source": [
    "### Removal of empty entries"
   ]
  },
  {
   "cell_type": "code",
   "execution_count": null,
   "metadata": {},
   "outputs": [],
   "source": [
    "non_empty_counts = []\n",
    "for colname in context_df.columns:\n",
    "    n = len(context_df[colname].dropna())\n",
    "    non_empty_counts.append([colname, n])\n",
    "# end for\n",
    "non_empty_counts = pd.DataFrame(non_empty_counts)\n",
    "non_empty_counts.columns = ['feature', 'non_empty_count']\n",
    "non_empty_counts['total'] = len(context_df)\n",
    "non_empty_counts['non_empty_ratio'] = non_empty_counts['non_empty_count'] / non_empty_counts['total']"
   ]
  },
  {
   "cell_type": "code",
   "execution_count": null,
   "metadata": {},
   "outputs": [],
   "source": [
    "empty_entries = non_empty_counts[non_empty_counts['non_empty_ratio'] <= thr]['feature'].values"
   ]
  },
  {
   "cell_type": "code",
   "execution_count": null,
   "metadata": {},
   "outputs": [],
   "source": [
    "empty_entries"
   ]
  },
  {
   "cell_type": "code",
   "execution_count": null,
   "metadata": {},
   "outputs": [],
   "source": [
    "for colname in empty_entries:\n",
    "    __nb_logger.info('removing empty entries: %s' % colname)\n",
    "    context_df.pop(colname);\n",
    "# end for"
   ]
  },
  {
   "cell_type": "markdown",
   "metadata": {},
   "source": [
    "### Save to file"
   ]
  },
  {
   "cell_type": "code",
   "execution_count": null,
   "metadata": {},
   "outputs": [],
   "source": [
    "# specify output\n",
    "outfilename = working_dir + '/vars/context_df.%s.pickle' % int(utc_timestamp())\n",
    "__nb_logger.info('write to output: %s' % outfilename)"
   ]
  },
  {
   "cell_type": "code",
   "execution_count": null,
   "metadata": {},
   "outputs": [],
   "source": [
    "pickle.dump(context_df, open(outfilename, 'w'))"
   ]
  }
 ],
 "metadata": {
  "kernelspec": {
   "display_name": "Python 2",
   "language": "python",
   "name": "python2"
  },
  "language_info": {
   "codemirror_mode": {
    "name": "ipython",
    "version": 2
   },
   "file_extension": ".py",
   "mimetype": "text/x-python",
   "name": "python",
   "nbconvert_exporter": "python",
   "pygments_lexer": "ipython2",
   "version": "2.7.12+"
  }
 },
 "nbformat": 4,
 "nbformat_minor": 2
}
