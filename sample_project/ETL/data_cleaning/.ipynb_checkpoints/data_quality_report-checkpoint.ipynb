{
 "cells": [
  {
   "cell_type": "markdown",
   "metadata": {},
   "source": [
    "# Track record data quality report"
   ]
  },
  {
   "cell_type": "markdown",
   "metadata": {},
   "source": [
    "Description: Report the quality of the data file\n",
    "- Number of missing values\n",
    "- Number of unique entries for discrete variables\n",
    "- Basic statistics for continuous variables"
   ]
  },
  {
   "cell_type": "markdown",
   "metadata": {},
   "source": [
    "#### === import libaries ==="
   ]
  },
  {
   "cell_type": "code",
   "execution_count": null,
   "metadata": {},
   "outputs": [],
   "source": [
    "# import libraries\n",
    "import dateutil\n",
    "import sys\n",
    "sys.path.append(home_dir+'/lib')"
   ]
  },
  {
   "cell_type": "code",
   "execution_count": null,
   "metadata": {},
   "outputs": [],
   "source": [
    "data_source_dir = home_dir+'/ETL/vars/'\n",
    "\n",
    "# select latest dated file\n",
    "cmd = 'ls {data_source_dir}/input_file.csv'.format(data_source_dir=data_source_dir)\n",
    "input_filepath = commands.getoutput(cmd).splitlines()[-1]\n",
    "__nb_logger.info('reading file: %s' % input_filepath)\n",
    "\n",
    "# actually read\n",
    "df = pd.read_csv(input_filepath)"
   ]
  },
  {
   "cell_type": "markdown",
   "metadata": {},
   "source": [
    "### === MAIN ==="
   ]
  },
  {
   "cell_type": "markdown",
   "metadata": {},
   "source": [
    "#### parameters setting"
   ]
  },
  {
   "cell_type": "code",
   "execution_count": null,
   "metadata": {},
   "outputs": [],
   "source": [
    "# if number of filled entries is less than this ratio, remove the feature\n",
    "thr = 0.01"
   ]
  },
  {
   "cell_type": "markdown",
   "metadata": {},
   "source": [
    "### Report data quality"
   ]
  },
  {
   "cell_type": "code",
   "execution_count": null,
   "metadata": {},
   "outputs": [],
   "source": [
    "input_filepath = 'mcs_claims_extraction_san.txt'\n",
    "df = pd.read_csv(input_filepath, sep='|')"
   ]
  },
  {
   "cell_type": "code",
   "execution_count": null,
   "metadata": {},
   "outputs": [],
   "source": [
    "test_length = 200\n",
    "disc_thr = 20"
   ]
  },
  {
   "cell_type": "code",
   "execution_count": null,
   "metadata": {},
   "outputs": [],
   "source": [
    "cont_variables, disc_variables, dt_variables, empty_variables = [[], [], [], []]"
   ]
  },
  {
   "cell_type": "code",
   "execution_count": null,
   "metadata": {},
   "outputs": [],
   "source": [
    "dt_keywords = ['DATE', 'DT', 'TIME']\n",
    "for colname in df.columns:\n",
    "    vals = df[colname][:test_length].dropna().values\n",
    "    if len(vals) == 0:\n",
    "        empty_variables.append(colname)\n",
    "    elif len(set(vals)) > disc_thr:\n",
    "        if any([keyword in colname.upper() for keyword in dt_keywords]):\n",
    "            dt_variables.append(colname)\n",
    "        else:\n",
    "            cont_variables.append(colname)\n",
    "        # end f\n",
    "    else:\n",
    "        disc_variables.append(colname)\n",
    "    # end if\n",
    "# end for"
   ]
  },
  {
   "cell_type": "code",
   "execution_count": null,
   "metadata": {},
   "outputs": [],
   "source": [
    "print ('The following are assumed to be discrete variables:')\n",
    "print (disc_variables)\n",
    "print ()\n",
    "print ('The following are assumed to be continuous variables:')\n",
    "print (cont_variables)\n",
    "print ()\n",
    "print ('The following are assumed to be datetime variables:')\n",
    "print (dt_variables)\n",
    "print ()\n",
    "print ('The following are likely to be empty:')\n",
    "print (empty_variables)"
   ]
  },
  {
   "cell_type": "code",
   "execution_count": null,
   "metadata": {},
   "outputs": [],
   "source": [
    "# human judgments\n",
    "disc_variables  = []\n",
    "cont_variables  = []\n",
    "empty_variables = []\n",
    "dt_variables    = []\n",
    "other_variables = []"
   ]
  },
  {
   "cell_type": "markdown",
   "metadata": {},
   "source": [
    "### Analyse discrete variables"
   ]
  },
  {
   "cell_type": "code",
   "execution_count": null,
   "metadata": {},
   "outputs": [],
   "source": [
    "disc_output = {}\n",
    "for colname in disc_variables:\n",
    "    __nb_logger.info('working on %s' % (colname))\n",
    "    counter = count_elements(df[colname].dropna().values, skip_na_test=True)\n",
    "    temp = {\n",
    "        '__ucount__': len(counter),\n",
    "        '__NA__'    : len(df) - sum(counter.values()),\n",
    "        'counter'   : counter\n",
    "    } # end temp\n",
    "    disc_output[colname] = temp\n",
    "# end for"
   ]
  },
  {
   "cell_type": "code",
   "execution_count": null,
   "metadata": {},
   "outputs": [],
   "source": [
    "_df = pd.DataFrame({colname: map(disc_output[colname].get, ['__NA__', '__ucount__']) for colname in disc_output.keys()}).transpose()\n",
    "_df.columns = ['missing_count', 'unique_count']\n",
    "_df"
   ]
  },
  {
   "cell_type": "markdown",
   "metadata": {},
   "source": [
    "### Analyse continuous variables"
   ]
  },
  {
   "cell_type": "code",
   "execution_count": null,
   "metadata": {},
   "outputs": [],
   "source": [
    "cont_output = {}\n",
    "for colname in cont_variables:\n",
    "    __nb_logger.info('working on %s' % (colname))\n",
    "    vals = df[colname].dropna().values\n",
    "    try:\n",
    "        vals = map(float, vals)\n",
    "    except ValueError:\n",
    "        other_variables.append(colname)\n",
    "        continue\n",
    "    # end try\n",
    "    temp = {\n",
    "        '__NA__': len(df) - len(vals),\n",
    "        'stats' : simple_stats(vals)\n",
    "    } # end temp\n",
    "    cont_output[colname] = temp\n",
    "# end for"
   ]
  },
  {
   "cell_type": "code",
   "execution_count": null,
   "metadata": {},
   "outputs": [],
   "source": [
    "_df = pd.DataFrame({colname: cont_output[colname]['stats'] for colname in cont_output.keys()}).transpose()\n",
    "_df['missing_count'] = NAs = [cont_output[colname]['__NA__'] for colname in cont_output.keys()]\n",
    "_df"
   ]
  },
  {
   "cell_type": "markdown",
   "metadata": {},
   "source": [
    "### Analyse datetime variables"
   ]
  },
  {
   "cell_type": "code",
   "execution_count": null,
   "metadata": {},
   "outputs": [],
   "source": [
    "dt_output = {}\n",
    "for colname in dt_variables:\n",
    "    __nb_logger.info('working on %s' % (colname))\n",
    "    vals = df[colname].dropna().values\n",
    "    try:\n",
    "        vals = map(dateutil.parser.parse, vals)\n",
    "        vals = [_.year for _ in vals] # yearly basis\n",
    "    except ValueError:\n",
    "        other_variables.append(colname)\n",
    "        continue\n",
    "    # end try\n",
    "    temp = {\n",
    "        '__NA__': len(df) - len(vals),\n",
    "        'stats' : simple_stats(vals)\n",
    "    } # end temp\n",
    "    dt_output[colname] = temp\n",
    "# end for"
   ]
  },
  {
   "cell_type": "code",
   "execution_count": null,
   "metadata": {},
   "outputs": [],
   "source": [
    "_df = pd.DataFrame({colname: dt_output[colname]['stats'] for colname in dt_output.keys()}).transpose()\n",
    "_df['missing_count'] = NAs = [dt_output[colname]['__NA__'] for colname in dt_output.keys()]\n",
    "_df"
   ]
  },
  {
   "cell_type": "markdown",
   "metadata": {},
   "source": [
    "#### print warnings"
   ]
  },
  {
   "cell_type": "code",
   "execution_count": null,
   "metadata": {},
   "outputs": [],
   "source": [
    "if len(other_variables) != 0:\n",
    "    print 'The following variables contain non-float values. Require attention.'\n",
    "    print other_variables\n",
    "# end if"
   ]
  },
  {
   "cell_type": "markdown",
   "metadata": {},
   "source": [
    "### Aggregate all output "
   ]
  },
  {
   "cell_type": "code",
   "execution_count": null,
   "metadata": {},
   "outputs": [],
   "source": [
    "# next time to excel\n",
    "output = {\n",
    "  'discrete'  : disc_output,\n",
    "  'continuous': cont_output,\n",
    "  'datetime'  : dt_output\n",
    "} # end output"
   ]
  },
  {
   "cell_type": "markdown",
   "metadata": {},
   "source": [
    "### Export to file"
   ]
  },
  {
   "cell_type": "code",
   "execution_count": null,
   "metadata": {},
   "outputs": [],
   "source": [
    "# specify output\n",
    "outfilename = working_dir + '/vars/data_summary.%s.pickle' % int(utc_timestamp())\n",
    "__nb_logger.info('write to output: %s' % outfilename)"
   ]
  },
  {
   "cell_type": "code",
   "execution_count": null,
   "metadata": {},
   "outputs": [],
   "source": [
    "pickle.dump(output, open(outfilename, 'w'))"
   ]
  }
 ],
 "metadata": {
  "kernelspec": {
   "display_name": "Python 2",
   "language": "python",
   "name": "python2"
  },
  "language_info": {
   "codemirror_mode": {
    "name": "ipython",
    "version": 2
   },
   "file_extension": ".py",
   "mimetype": "text/x-python",
   "name": "python",
   "nbconvert_exporter": "python",
   "pygments_lexer": "ipython2",
   "version": "2.7.12+"
  }
 },
 "nbformat": 4,
 "nbformat_minor": 2
}
