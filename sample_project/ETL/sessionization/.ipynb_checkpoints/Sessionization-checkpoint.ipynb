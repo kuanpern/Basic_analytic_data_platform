{
 "cells": [
  {
   "cell_type": "markdown",
   "metadata": {},
   "source": [
    "# Sessionization"
   ]
  },
  {
   "cell_type": "markdown",
   "metadata": {},
   "source": [
    "Description: Sessionization"
   ]
  },
  {
   "cell_type": "markdown",
   "metadata": {},
   "source": [
    "#### === import libaries ==="
   ]
  },
  {
   "cell_type": "code",
   "execution_count": 5,
   "metadata": {},
   "outputs": [],
   "source": [
    "# import libraries\n",
    "import sys\n",
    "sys.path.append(home_dir+'/lib')"
   ]
  },
  {
   "cell_type": "markdown",
   "metadata": {},
   "source": [
    "### === MAIN ==="
   ]
  },
  {
   "cell_type": "code",
   "execution_count": 6,
   "metadata": {},
   "outputs": [],
   "source": [
    "data_source_dir = home_dir+'/ETL/vars/'"
   ]
  },
  {
   "cell_type": "markdown",
   "metadata": {},
   "source": [
    "### Read contextual data"
   ]
  },
  {
   "cell_type": "code",
   "execution_count": 7,
   "metadata": {},
   "outputs": [
    {
     "name": "stderr",
     "output_type": "stream",
     "text": [
      "INFO:InBookIogger:reading file: /home/kuanpern/Desktop/project_insurance_optimization/ALEXANDER_FINAL_PIPE//ETL/vars//context_df.1511945495.pickle\n"
     ]
    }
   ],
   "source": [
    "# select latest dated file (track ee)\n",
    "cmd = 'ls {data_source_dir}/context_df.*.pickle'.format(data_source_dir=data_source_dir)\n",
    "input_filepath = commands.getoutput(cmd).splitlines()[-1]\n",
    "__nb_logger.info('reading file: %s' % input_filepath)\n",
    "context_df = pickle.load(open(input_filepath))"
   ]
  },
  {
   "cell_type": "markdown",
   "metadata": {},
   "source": [
    "### Read the track record file"
   ]
  },
  {
   "cell_type": "code",
   "execution_count": 8,
   "metadata": {},
   "outputs": [
    {
     "name": "stderr",
     "output_type": "stream",
     "text": [
      "INFO:InBookIogger:reading file: /home/kuanpern/Desktop/project_insurance_optimization/ALEXANDER_FINAL_PIPE//ETL/vars//record_df.1511919486.pickle\n"
     ]
    }
   ],
   "source": [
    "# select latest dated file (track record)\n",
    "cmd = 'ls {data_source_dir}/record_df.*.pickle'.format(data_source_dir=data_source_dir)\n",
    "input_filepath = commands.getoutput(cmd).splitlines()[-1]\n",
    "__nb_logger.info('reading file: %s' % input_filepath)\n",
    "record_df = pickle.load(open(input_filepath))"
   ]
  },
  {
   "cell_type": "markdown",
   "metadata": {},
   "source": [
    "#### Session data structure"
   ]
  },
  {
   "cell_type": "code",
   "execution_count": 9,
   "metadata": {},
   "outputs": [],
   "source": [
    "Sessions = defaultdict(\n",
    "    lambda: {'track_records': None,\n",
    "             'contextual_data': None}\n",
    ") # end defaultdict"
   ]
  },
  {
   "cell_type": "markdown",
   "metadata": {},
   "source": [
    "### ==== Session definition ===="
   ]
  },
  {
   "cell_type": "code",
   "execution_count": 15,
   "metadata": {},
   "outputs": [],
   "source": [
    "def sessionization_fx(IDs, part_label = None):\n",
    "    start_time = time.time()\n",
    "    _Sessions = defaultdict(lambda: {'track_records': None, 'contextual_data': None})\n",
    "\n",
    "    for i in range(len(IDs)):\n",
    "        _id = IDs[i]\n",
    "        if i % 1000 == 0:\n",
    "            __nb_logger.info('part-%d %d/%d | elapsed: %5.2f' % (part_label, i+1, len(IDs), time.time()-start_time))\n",
    "        # end if\n",
    "\n",
    "        # extract from contextual data\n",
    "        dfs = []\n",
    "        for _id in ids:\n",
    "            _df = context_df[context_df['ID'] == _id]\n",
    "            dfs.append(_df)\n",
    "        # end for\n",
    "        _df = pd.concat(dfs)\n",
    "        _Sessions[_id]['contextual_data'] = _df\n",
    "\n",
    "        # extract from track data\n",
    "        dfs = []\n",
    "        for _id in ids:\n",
    "            _df = record_df[record_df['ID'] == _id]\n",
    "            dfs.append(_df)\n",
    "        # end for\n",
    "        _df = pd.concat(dfs)\n",
    "        _Sessions[_id]['track_records'] = _df\n",
    "    # end for\n",
    "\n",
    "    return _Sessions\n",
    "# end for"
   ]
  },
  {
   "cell_type": "code",
   "execution_count": 19,
   "metadata": {},
   "outputs": [],
   "source": [
    "IDs = list(set(context_df['ID'].dropna().values))\n",
    "_Sessions = [None for _ in range(part_n)]\n",
    "for i in range(part_n):\n",
    "    _Sessions[i] = sessionization_fx(IDs, i+1)\n",
    "# end for\n",
    "Sessions = {}\n",
    "for _session in _Sessions:\n",
    "    Sessions.update(_sessions)\n",
    "# end for"
   ]
  },
  {
   "cell_type": "code",
   "execution_count": 20,
   "metadata": {},
   "outputs": [
    {
     "name": "stdout",
     "output_type": "stream",
     "text": [
      "93285\n"
     ]
    }
   ],
   "source": [
    "print 'A total of %d sessions constructed' % (len(Sessions))"
   ]
  },
  {
   "cell_type": "markdown",
   "metadata": {},
   "source": [
    "### Export to file"
   ]
  },
  {
   "cell_type": "code",
   "execution_count": 22,
   "metadata": {},
   "outputs": [
    {
     "name": "stderr",
     "output_type": "stream",
     "text": [
      "INFO:InBookIogger:write to output: /home/kuanpern/Desktop/project_insurance_optimization/ALEXANDER_FINAL_PIPE//ETL/vars/Sessions.1511926038.pickle\n"
     ]
    }
   ],
   "source": [
    "# specify output\n",
    "outfilename = working_dir + '/vars/Sessions.%s.pickle' % int(utc_timestamp())\n",
    "__nb_logger.info('write to output: %s' % outfilename)"
   ]
  },
  {
   "cell_type": "code",
   "execution_count": 23,
   "metadata": {},
   "outputs": [],
   "source": [
    "pickle.dump(Sessions, open(outfilename, 'w'))"
   ]
  },
  {
   "cell_type": "markdown",
   "metadata": {},
   "source": [
    "#### === meta ===="
   ]
  },
  {
   "cell_type": "code",
   "execution_count": 25,
   "metadata": {},
   "outputs": [
    {
     "name": "stderr",
     "output_type": "stream",
     "text": [
      "INFO:InBookIogger:notebook ended at UTC time: 2017-11-29T11:29:17.149474 (local time: 2017-11-29T19:29:17.149482)\n",
      "INFO:InBookIogger:notebook took 962.83 secs to finish\n"
     ]
    }
   ],
   "source": [
    "# end timing the notebook\n",
    "%run -i $snippet_dir/global_end_time.py"
   ]
  }
 ],
 "metadata": {
  "kernelspec": {
   "display_name": "Python 2",
   "language": "python",
   "name": "python2"
  },
  "language_info": {
   "codemirror_mode": {
    "name": "ipython",
    "version": 2
   },
   "file_extension": ".py",
   "mimetype": "text/x-python",
   "name": "python",
   "nbconvert_exporter": "python",
   "pygments_lexer": "ipython2",
   "version": "2.7.12+"
  }
 },
 "nbformat": 4,
 "nbformat_minor": 2
}
